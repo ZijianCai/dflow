{
 "cells": [
  {
   "cell_type": "markdown",
   "id": "a0cfe181",
   "metadata": {},
   "source": [
    "# Table of Contents\n",
    "- [Installation](#Installation)\n",
    "- [Setup](#Setup)\n",
    "- [Run.py](#Run-py)\n",
    "- [Argo UI](#Argo-UI)"
   ]
  },
  {
   "cell_type": "markdown",
   "id": "9ee4e299",
   "metadata": {},
   "source": [
    "# <a name=\"Installation\"></a> Installation"
   ]
  },
  {
   "cell_type": "markdown",
   "id": "57ea0080",
   "metadata": {},
   "source": [
    "## Prerequisite"
   ]
  },
  {
   "cell_type": "markdown",
   "id": "56ab687d",
   "metadata": {},
   "source": [
    "Before using [dflow](#https://github.com/deepmodeling/dflow), we need to install the following two things:\n",
    "- Docker (Official installation instruction: https://docs.docker.com/desktop/mac/install/)\n",
    "- Minikube (Official installation instruction: https://minikube.sigs.k8s.io/docs/start/)"
   ]
  },
  {
   "cell_type": "markdown",
   "id": "9e19f385",
   "metadata": {},
   "source": [
    "## Install pydflow"
   ]
  },
  {
   "cell_type": "code",
   "execution_count": 1,
   "id": "12ab4cf3",
   "metadata": {
    "scrolled": true
   },
   "outputs": [
    {
     "name": "stdout",
     "output_type": "stream",
     "text": [
      "Requirement already satisfied: pydflow in /Users/zijiancai/opt/miniconda3/envs/dflow-jupyter/lib/python3.9/site-packages (1.2.7)\n",
      "Requirement already satisfied: jsonpickle in /Users/zijiancai/opt/miniconda3/envs/dflow-jupyter/lib/python3.9/site-packages (from pydflow) (2.2.0)\n",
      "Requirement already satisfied: pyyaml in /Users/zijiancai/opt/miniconda3/envs/dflow-jupyter/lib/python3.9/site-packages (from pydflow) (6.0)\n",
      "Requirement already satisfied: argo-workflows==5.0.0 in /Users/zijiancai/opt/miniconda3/envs/dflow-jupyter/lib/python3.9/site-packages (from pydflow) (5.0.0)\n",
      "Requirement already satisfied: certifi in /Users/zijiancai/opt/miniconda3/envs/dflow-jupyter/lib/python3.9/site-packages (from pydflow) (2022.6.15)\n",
      "Requirement already satisfied: urllib3 in /Users/zijiancai/opt/miniconda3/envs/dflow-jupyter/lib/python3.9/site-packages (from pydflow) (1.26.11)\n",
      "Requirement already satisfied: kubernetes in /Users/zijiancai/opt/miniconda3/envs/dflow-jupyter/lib/python3.9/site-packages (from pydflow) (24.2.0)\n",
      "Requirement already satisfied: python-dateutil in /Users/zijiancai/opt/miniconda3/envs/dflow-jupyter/lib/python3.9/site-packages (from pydflow) (2.8.2)\n",
      "Requirement already satisfied: cloudpickle in /Users/zijiancai/opt/miniconda3/envs/dflow-jupyter/lib/python3.9/site-packages (from pydflow) (2.1.0)\n",
      "Requirement already satisfied: typeguard in /Users/zijiancai/opt/miniconda3/envs/dflow-jupyter/lib/python3.9/site-packages (from pydflow) (2.13.3)\n",
      "Requirement already satisfied: minio in /Users/zijiancai/opt/miniconda3/envs/dflow-jupyter/lib/python3.9/site-packages (from pydflow) (7.1.11)\n",
      "Requirement already satisfied: six in /Users/zijiancai/opt/miniconda3/envs/dflow-jupyter/lib/python3.9/site-packages (from pydflow) (1.16.0)\n",
      "Requirement already satisfied: requests-oauthlib in /Users/zijiancai/opt/miniconda3/envs/dflow-jupyter/lib/python3.9/site-packages (from kubernetes->pydflow) (1.3.1)\n",
      "Requirement already satisfied: setuptools>=21.0.0 in /Users/zijiancai/opt/miniconda3/envs/dflow-jupyter/lib/python3.9/site-packages (from kubernetes->pydflow) (61.2.0)\n",
      "Requirement already satisfied: websocket-client!=0.40.0,!=0.41.*,!=0.42.*,>=0.32.0 in /Users/zijiancai/opt/miniconda3/envs/dflow-jupyter/lib/python3.9/site-packages (from kubernetes->pydflow) (1.3.3)\n",
      "Requirement already satisfied: google-auth>=1.0.1 in /Users/zijiancai/opt/miniconda3/envs/dflow-jupyter/lib/python3.9/site-packages (from kubernetes->pydflow) (2.10.0)\n",
      "Requirement already satisfied: requests in /Users/zijiancai/opt/miniconda3/envs/dflow-jupyter/lib/python3.9/site-packages (from kubernetes->pydflow) (2.28.1)\n",
      "Requirement already satisfied: pyasn1-modules>=0.2.1 in /Users/zijiancai/opt/miniconda3/envs/dflow-jupyter/lib/python3.9/site-packages (from google-auth>=1.0.1->kubernetes->pydflow) (0.2.8)\n",
      "Requirement already satisfied: cachetools<6.0,>=2.0.0 in /Users/zijiancai/opt/miniconda3/envs/dflow-jupyter/lib/python3.9/site-packages (from google-auth>=1.0.1->kubernetes->pydflow) (5.2.0)\n",
      "Requirement already satisfied: rsa<5,>=3.1.4 in /Users/zijiancai/opt/miniconda3/envs/dflow-jupyter/lib/python3.9/site-packages (from google-auth>=1.0.1->kubernetes->pydflow) (4.9)\n",
      "Requirement already satisfied: charset-normalizer<3,>=2 in /Users/zijiancai/opt/miniconda3/envs/dflow-jupyter/lib/python3.9/site-packages (from requests->kubernetes->pydflow) (2.1.0)\n",
      "Requirement already satisfied: idna<4,>=2.5 in /Users/zijiancai/opt/miniconda3/envs/dflow-jupyter/lib/python3.9/site-packages (from requests->kubernetes->pydflow) (3.3)\n",
      "Requirement already satisfied: oauthlib>=3.0.0 in /Users/zijiancai/opt/miniconda3/envs/dflow-jupyter/lib/python3.9/site-packages (from requests-oauthlib->kubernetes->pydflow) (3.2.0)\n",
      "Requirement already satisfied: pyasn1<0.5.0,>=0.4.6 in /Users/zijiancai/opt/miniconda3/envs/dflow-jupyter/lib/python3.9/site-packages (from pyasn1-modules>=0.2.1->google-auth>=1.0.1->kubernetes->pydflow) (0.4.8)\n"
     ]
    }
   ],
   "source": [
    "!pip install pydflow"
   ]
  },
  {
   "cell_type": "markdown",
   "id": "02407938",
   "metadata": {},
   "source": [
    "Once installed, restart the jupyter notebook kernel to make the installation to take effect."
   ]
  },
  {
   "cell_type": "markdown",
   "id": "4c383343",
   "metadata": {},
   "source": [
    "# <a name=\"Setup\"></a> Setup"
   ]
  },
  {
   "cell_type": "markdown",
   "id": "e82a6029",
   "metadata": {},
   "source": [
    "## Minikube"
   ]
  },
  {
   "cell_type": "markdown",
   "id": "dfb9c38d",
   "metadata": {},
   "source": [
    "Dflow runs on kubernetes (k8s), so we need to start minikube"
   ]
  },
  {
   "cell_type": "code",
   "execution_count": 2,
   "id": "43bf228a",
   "metadata": {},
   "outputs": [
    {
     "name": "stdout",
     "output_type": "stream",
     "text": [
      "😄  minikube v1.25.2 on Darwin 12.5\n",
      "✨  Using the docker driver based on existing profile\n",
      "👍  Starting control plane node minikube in cluster minikube\n",
      "🚜  Pulling base image ...\n",
      "🏃  Updating the running docker \"minikube\" container ...\n",
      "🐳  Preparing Kubernetes v1.23.3 on Docker 20.10.12 ...\u001b[K\u001b[K\u001b[K\u001b[K\u001b[K\u001b[K\u001b[K\u001b[K\n",
      "    ▪ kubelet.housekeeping-interval=5m\n",
      "🔎  Verifying Kubernetes components...\n",
      "    ▪ Using image gcr.io/k8s-minikube/storage-provisioner:v5\n",
      "🌟  Enabled addons: storage-provisioner, default-storageclass\n",
      "🏄  Done! kubectl is now configured to use \"minikube\" cluster and \"default\" namespace by default\n"
     ]
    }
   ],
   "source": [
    "!minikube start --memory 2048 --cpus 2"
   ]
  },
  {
   "cell_type": "markdown",
   "id": "3c3fb46e",
   "metadata": {},
   "source": [
    "## Argo-workflows"
   ]
  },
  {
   "cell_type": "markdown",
   "id": "980cf122",
   "metadata": {},
   "source": [
    "Dflow is built on [argo-workflow](https://github.com/argoproj/argo-workflows), so we need to setup argo engine in k8s:"
   ]
  },
  {
   "cell_type": "markdown",
   "id": "4a0a37b3",
   "metadata": {},
   "source": [
    "1. To get started quickly, we can use the quick start manifest which will install Argo Workflows as well as some commonly used components:"
   ]
  },
  {
   "cell_type": "code",
   "execution_count": 4,
   "id": "fe34ddf9",
   "metadata": {
    "scrolled": true
   },
   "outputs": [
    {
     "name": "stdout",
     "output_type": "stream",
     "text": [
      "customresourcedefinition.apiextensions.k8s.io/clusterworkflowtemplates.argoproj.io unchanged\n",
      "customresourcedefinition.apiextensions.k8s.io/cronworkflows.argoproj.io unchanged\n",
      "customresourcedefinition.apiextensions.k8s.io/workfloweventbindings.argoproj.io unchanged\n",
      "customresourcedefinition.apiextensions.k8s.io/workflows.argoproj.io unchanged\n",
      "customresourcedefinition.apiextensions.k8s.io/workflowtaskresults.argoproj.io unchanged\n",
      "customresourcedefinition.apiextensions.k8s.io/workflowtasksets.argoproj.io unchanged\n",
      "customresourcedefinition.apiextensions.k8s.io/workflowtemplates.argoproj.io unchanged\n",
      "serviceaccount/argo unchanged\n",
      "serviceaccount/argo-server unchanged\n",
      "serviceaccount/github.com unchanged\n",
      "role.rbac.authorization.k8s.io/agent unchanged\n",
      "role.rbac.authorization.k8s.io/argo-role unchanged\n",
      "role.rbac.authorization.k8s.io/argo-server-role unchanged\n",
      "role.rbac.authorization.k8s.io/executor unchanged\n",
      "role.rbac.authorization.k8s.io/pod-manager unchanged\n",
      "role.rbac.authorization.k8s.io/submit-workflow-template unchanged\n",
      "role.rbac.authorization.k8s.io/workflow-manager unchanged\n",
      "clusterrole.rbac.authorization.k8s.io/argo-clusterworkflowtemplate-role unchanged\n",
      "clusterrole.rbac.authorization.k8s.io/argo-server-clusterworkflowtemplate-role unchanged\n",
      "rolebinding.rbac.authorization.k8s.io/agent-default unchanged\n",
      "rolebinding.rbac.authorization.k8s.io/argo-binding unchanged\n",
      "rolebinding.rbac.authorization.k8s.io/argo-server-binding unchanged\n",
      "rolebinding.rbac.authorization.k8s.io/executor-default unchanged\n",
      "rolebinding.rbac.authorization.k8s.io/github.com unchanged\n",
      "rolebinding.rbac.authorization.k8s.io/pod-manager-default unchanged\n",
      "rolebinding.rbac.authorization.k8s.io/workflow-manager-default unchanged\n",
      "clusterrolebinding.rbac.authorization.k8s.io/argo-clusterworkflowtemplate-role-binding unchanged\n",
      "clusterrolebinding.rbac.authorization.k8s.io/argo-server-clusterworkflowtemplate-role-binding unchanged\n",
      "configmap/artifact-repositories unchanged\n",
      "configmap/workflow-controller-configmap unchanged\n",
      "secret/argo-postgres-config configured\n",
      "secret/argo-server-sso configured\n",
      "secret/argo-workflows-webhook-clients configured\n",
      "secret/my-httpbin-cred configured\n",
      "secret/my-minio-cred configured\n",
      "service/argo-server unchanged\n",
      "service/httpbin unchanged\n",
      "service/minio unchanged\n",
      "service/postgres unchanged\n",
      "service/workflow-controller-metrics unchanged\n",
      "priorityclass.scheduling.k8s.io/workflow-controller unchanged\n",
      "deployment.apps/argo-server configured\n",
      "deployment.apps/httpbin unchanged\n",
      "deployment.apps/minio unchanged\n",
      "deployment.apps/postgres unchanged\n",
      "deployment.apps/workflow-controller unchanged\n"
     ]
    }
   ],
   "source": [
    "!kubectl create ns argo #create argo namespace\n",
    "!kubectl apply -n argo -f https://raw.githubusercontent.com/dptech-corp/dflow/master/manifests/quick-start-postgres.yaml"
   ]
  },
  {
   "cell_type": "markdown",
   "id": "83cdd464",
   "metadata": {},
   "source": [
    "2. To monitor the setup progress, we can look at the pod status"
   ]
  },
  {
   "cell_type": "code",
   "execution_count": 5,
   "id": "7986cfc7",
   "metadata": {},
   "outputs": [
    {
     "name": "stdout",
     "output_type": "stream",
     "text": [
      "NAME                                   READY   STATUS               RESTARTS      AGE\r\n",
      "argo-server-78f47df69f-92x7w           1/1     Running              0             15m\r\n",
      "helloworld-df4rw-duplicate-572548458   0/2     Completed            0             54d\r\n",
      "helloworld-df4rw-hello-352145594       0/2     Completed            0             54d\r\n",
      "httpbin-588f9cb6f7-7z5r2               1/1     Running              0             15m\r\n",
      "minio-59cf898d6f-wqs7f                 1/1     Running              0             15m\r\n",
      "postgres-869f7fbd7f-8dpv4              1/1     Running              11 (3d ago)   54d\r\n",
      "predict-2gd55-2646084598               0/2     Error                0             49d\r\n",
      "predict-2qn4g-643214579                0/2     Completed            0             49d\r\n",
      "predict-2r5gz-3894776341               0/2     Error                0             49d\r\n",
      "predict-2w7d2-3250632301               0/2     Error                0             49d\r\n",
      "predict-789g4-872904460                0/2     Error                0             49d\r\n",
      "predict-7fbdz-861921814                0/2     Completed            0             49d\r\n",
      "predict-7kxqx-1215738966               0/2     Error                0             49d\r\n",
      "predict-8r6cv-1425574540               0/2     Completed            0             49d\r\n",
      "predict-9ksgk-2577130294               0/2     Error                0             49d\r\n",
      "predict-9wsgj-4244136179               0/2     Error                0             49d\r\n",
      "predict-bnn4x-2426669097               0/2     Error                0             49d\r\n",
      "predict-cd8kq-4153137820               0/2     Error                0             49d\r\n",
      "predict-ck2wl-3033675362               0/2     Error                0             49d\r\n",
      "predict-dxtmt-159604315                0/2     Error                0             46d\r\n",
      "predict-fdzw5-1722212743               0/2     Error                0             49d\r\n",
      "predict-fprhg-3012338588               0/2     Completed            0             49d\r\n",
      "predict-gbwt7-1604833922               0/2     Completed            0             49d\r\n",
      "predict-gdjb7-4116337671               0/2     Error                0             49d\r\n",
      "predict-h5zwj-1462613049               0/2     Error                0             49d\r\n",
      "predict-jt8sz-2668944654               0/2     Error                0             49d\r\n",
      "predict-lrvj4-457444601                0/2     Completed            0             49d\r\n",
      "predict-lxl27-189167642                0/2     Error                0             49d\r\n",
      "predict-mntv9-272951719                0/2     Completed            0             49d\r\n",
      "predict-mpbmj-1743043545               0/2     Completed            0             49d\r\n",
      "predict-pqh6l-708563222                0/2     Error                0             49d\r\n",
      "predict-qwsz2-1231418820               0/2     Error                0             49d\r\n",
      "predict-r4t56-566030532                0/2     Error                0             49d\r\n",
      "predict-smpl9-3834107697               0/2     Error                0             46d\r\n",
      "predict-t25ll-488012900                0/2     Completed            0             49d\r\n",
      "predict-tfv4s-2716324364               0/2     Completed            0             49d\r\n",
      "predict-tmtc2-2650322651               0/2     Error                0             49d\r\n",
      "predict-vw8tv-3044650138               0/2     Completed            0             49d\r\n",
      "predict-whgqj-790613330                0/2     Error                0             49d\r\n",
      "predict-xd625-2282959905               0/2     Completed            0             46d\r\n",
      "predict-xkkzn-2659537761               0/2     Error                0             49d\r\n",
      "predict-xlthd-445752563                0/2     Error                0             49d\r\n",
      "predict-xsksv-1512986302               0/2     Error                0             49d\r\n",
      "print-hello-29tjv-2986385110           0/2     Error                0             15d\r\n",
      "print-hello-29tjv-3003162729           0/2     Error                0             15d\r\n",
      "print-hello-2ptsk-2710078127           0/2     Completed            0             14d\r\n",
      "print-hello-2ptsk-4025374283           0/2     Completed            0             14d\r\n",
      "print-hello-2ptsk-850528954            0/2     Completed            0             14d\r\n",
      "print-hello-2ptsk-867306573            0/2     Completed            0             14d\r\n",
      "print-hello-44rrm-3132049918           0/2     Error                0             19d\r\n",
      "print-hello-477x6-1917878171           0/2     Completed            0             14d\r\n",
      "print-hello-477x6-2698800778           0/2     Completed            0             14d\r\n",
      "print-hello-477x6-2715578397           0/2     Completed            0             14d\r\n",
      "print-hello-4g8nf-1219676686           0/2     ContainerCannotRun   0             17d\r\n",
      "print-hello-4s79b-753768124            0/2     Error                0             17d\r\n",
      "print-hello-4sggl-2232437212           0/2     ContainerCannotRun   0             17d\r\n",
      "print-hello-58tpb-411339568            0/2     ContainerCannotRun   0             25d\r\n",
      "print-hello-5mbgs-3449456520           0/2     Completed            0             17d\r\n",
      "print-hello-5mbgs-3466234139           0/2     Completed            0             17d\r\n",
      "print-hello-5mbgs-485795077            0/2     Completed            0             17d\r\n",
      "print-hello-65ssg-3508883815           0/2     Completed            0             17d\r\n",
      "print-hello-6flk6-4210723270           0/2     ContainerCannotRun   0             19d\r\n",
      "print-hello-6fvk4-3391772960           0/2     Error                0             15d\r\n",
      "print-hello-6fvk4-824055984            0/2     Completed            0             15d\r\n",
      "print-hello-6fvk4-840833603            0/2     Completed            0             15d\r\n",
      "print-hello-6pzsk-1330777537           0/2     Error                0             14d\r\n",
      "print-hello-6pzsk-3068423956           0/2     Completed            0             14d\r\n",
      "print-hello-6pzsk-3085201575           0/2     Completed            0             14d\r\n",
      "print-hello-6pzsk-748607641            0/2     Completed            0             14d\r\n",
      "print-hello-74dg8-1124450900           0/2     Completed            0             14d\r\n",
      "print-hello-74dg8-1141228519           0/2     Completed            0             14d\r\n",
      "print-hello-74dg8-804733145            0/2     Completed            0             14d\r\n",
      "print-hello-7mdpw-2343952656           0/2     Completed            0             14d\r\n",
      "print-hello-7mdpw-2360730275           0/2     Completed            0             14d\r\n",
      "print-hello-7mdpw-3391966336           0/2     Completed            0             14d\r\n",
      "print-hello-82n7w-2162951365           0/2     ContainerCannotRun   0             25d\r\n",
      "print-hello-84mzb-110263302            0/2     Completed            0             14d\r\n",
      "print-hello-84mzb-3297467754           0/2     Completed            0             14d\r\n",
      "print-hello-84mzb-3314245373           0/2     Completed            0             14d\r\n",
      "print-hello-8mfhm-1332535639           0/2     ContainerCannotRun   0             17d\r\n",
      "print-hello-8n2r5-2279954552           0/2     ContainerCannotRun   0             25d\r\n",
      "print-hello-8np9s-1888861225           0/2     Error                0             15d\r\n",
      "print-hello-8np9s-550191012            0/2     Completed            0             15d\r\n",
      "print-hello-8np9s-566968631            0/2     Completed            0             15d\r\n",
      "print-hello-9hgp2-4143002015           0/2     Completed            0             17d\r\n",
      "print-hello-9rkpj-2567837357           0/2     Error                0             19d\r\n",
      "print-hello-b777g-1024871081           0/2     Error                0             17d\r\n",
      "print-hello-bn7tr-1396061266           0/2     Completed            0             15d\r\n",
      "print-hello-bn7tr-1412838885           0/2     Completed            0             15d\r\n",
      "print-hello-bn7tr-3797884638           0/2     Error                0             15d\r\n",
      "print-hello-cd4tk-4270766623           0/2     ContainerCannotRun   0             17d\r\n",
      "print-hello-cjlzx-3633506988           0/2     ContainerCannotRun   0             25d\r\n",
      "print-hello-crmj2-105541613            0/2     Completed            0             15d\r\n",
      "print-hello-crmj2-2152333035           0/2     Error                0             15d\r\n",
      "print-hello-crmj2-88763994             0/2     Completed            0             15d\r\n",
      "print-hello-crvnm-3348232799           0/2     ContainerCannotRun   0             25d\r\n",
      "print-hello-cz5jp-1442910765           0/2     ContainerCannotRun   0             25d\r\n",
      "print-hello-dmlnh-1102619046           0/2     ContainerCannotRun   0             25d\r\n",
      "print-hello-fmpkw-804569896            0/2     ContainerCannotRun   0             19d\r\n",
      "print-hello-fzx8z-459737661            0/2     Completed            0             14d\r\n",
      "print-hello-fzx8z-597215568            0/2     Completed            0             14d\r\n",
      "print-hello-fzx8z-613993187            0/2     Completed            0             14d\r\n",
      "print-hello-gjtjx-1630057888           0/2     ContainerCannotRun   0             25d\r\n",
      "print-hello-gn9m4-1604769856           0/2     Error                0             15d\r\n",
      "print-hello-gn9m4-1621547475           0/2     Error                0             15d\r\n",
      "print-hello-gqcfh-931619666            0/2     Completed            0             15d\r\n",
      "print-hello-gqcfh-948397285            0/2     Completed            0             15d\r\n",
      "print-hello-gr9tk-3141324160           0/2     Completed            0             15d\r\n",
      "print-hello-gr9tk-3899894800           0/2     Completed            0             15d\r\n",
      "print-hello-gr9tk-3916672419           0/2     Completed            0             15d\r\n",
      "print-hello-h57md-1139701288           0/2     Error                0             17d\r\n",
      "print-hello-h6kss-2367738952           0/2     ContainerCannotRun   0             25d\r\n",
      "print-hello-h74ps-2862871557           0/2     Completed            0             19d\r\n",
      "print-hello-hlmt5-1183768099           0/2     ContainerCannotRun   0             19d\r\n",
      "print-hello-hltbn-3539478595           0/2     ContainerCannotRun   0             25d\r\n",
      "print-hello-hwcr8-3817208147           0/2     Completed            0             25d\r\n",
      "print-hello-hxd6v-2527321610           0/2     Completed            0             14d\r\n",
      "print-hello-hxd6v-2544099229           0/2     Completed            0             14d\r\n",
      "print-hello-hxd6v-3501301275           0/2     Error                0             14d\r\n",
      "print-hello-j546m-1249709593           0/2     Error                0             17d\r\n",
      "print-hello-jfklr-2747693022           0/2     Completed            0             15d\r\n",
      "print-hello-jfklr-2764470641           0/2     Completed            0             15d\r\n",
      "print-hello-jhv7g-1526351121           0/2     Completed            0             17d\r\n",
      "print-hello-jhv7g-1906740385           0/2     Completed            0             17d\r\n",
      "print-hello-jjlt5-3303768402           0/2     Error                0             15d\r\n",
      "print-hello-jjlt5-3320546021           0/2     Error                0             15d\r\n",
      "print-hello-js979-776302724            0/2     Error                0             15d\r\n",
      "print-hello-js979-793080343            0/2     Error                0             15d\r\n",
      "print-hello-jt7hn-641190092            0/2     ContainerCannotRun   0             17d\r\n",
      "print-hello-kbv2d-1014530901           0/2     Completed            0             14d\r\n",
      "print-hello-kbv2d-635874510            0/2     Completed            0             14d\r\n",
      "print-hello-kbv2d-997753282            0/2     Completed            0             14d\r\n",
      "print-hello-kclpt-1857971657           0/2     Completed            0             14d\r\n",
      "print-hello-kclpt-2158375876           0/2     Completed            0             14d\r\n",
      "print-hello-kclpt-2175153495           0/2     Completed            0             14d\r\n",
      "print-hello-kclpt-2284892561           0/2     Completed            0             14d\r\n",
      "print-hello-kmwf2-4050488340           0/2     Error                0             19d\r\n",
      "print-hello-kr6bq-3967244807           0/2     Error                0             15d\r\n",
      "print-hello-kz5xz-858824697            0/2     ContainerCannotRun   0             19d\r\n",
      "print-hello-l52zj-3236662614           0/2     Error                0             17d\r\n",
      "print-hello-ljnkx-2610445822           0/2     Completed            0             14d\r\n",
      "print-hello-ljnkx-2627223441           0/2     Completed            0             14d\r\n",
      "print-hello-ljnkx-2981859666           0/2     Completed            0             14d\r\n",
      "print-hello-ljnkx-665378326            0/2     Completed            0             14d\r\n",
      "print-hello-lnz5d-2475569380           0/2     Error                0             17d\r\n",
      "print-hello-ls9w7-2657442356           0/2     Completed            0             15d\r\n",
      "print-hello-ls9w7-2674219975           0/2     Completed            0             15d\r\n",
      "print-hello-ls9w7-2765363129           0/2     Error                0             15d\r\n",
      "print-hello-m7zzg-1473442336           0/2     Completed            0             14d\r\n",
      "print-hello-m7zzg-1490219955           0/2     Completed            0             14d\r\n",
      "print-hello-m7zzg-162651856            0/2     Completed            0             14d\r\n",
      "print-hello-mfc5m-2233574976           0/2     Completed            0             14d\r\n",
      "print-hello-mfc5m-2250352595           0/2     Completed            0             14d\r\n",
      "print-hello-mfc5m-4141151213           0/2     Completed            0             14d\r\n",
      "print-hello-mjsh6-204293677            0/2     ContainerCannotRun   0             25d\r\n",
      "print-hello-n27qw-4098851944           0/2     Completed            0             17d\r\n",
      "print-hello-n29wt-1912344971           0/2     Error                0             15d\r\n",
      "print-hello-n29wt-537042938            0/2     Completed            0             15d\r\n",
      "print-hello-n29wt-553820557            0/2     Completed            0             15d\r\n",
      "print-hello-n565k-1157785444           0/2     Completed            0             3d19h\r\n",
      "print-hello-n565k-1174563063           0/2     Completed            0             3d19h\r\n",
      "print-hello-n565k-2606391868           0/2     Completed            0             3d19h\r\n",
      "print-hello-n565k-2679514564           0/2     Completed            0             3d19h\r\n",
      "print-hello-n8z4h-1543322555           0/2     Error                0             19d\r\n",
      "print-hello-nh6d4-1272358763           0/2     Completed            0             14d\r\n",
      "print-hello-nh6d4-1683049434           0/2     Completed            0             14d\r\n",
      "print-hello-nh6d4-1699827053           0/2     Completed            0             14d\r\n",
      "print-hello-nkslr-3457294297           0/2     ContainerCannotRun   0             25d\r\n",
      "print-hello-nxbwd-1510337638           0/2     Completed            0             14d\r\n",
      "print-hello-nxbwd-1527115257           0/2     Completed            0             14d\r\n",
      "print-hello-nxbwd-677663466            0/2     Completed            0             14d\r\n",
      "print-hello-pgr9m-1600809442           0/2     Completed            0             15d\r\n",
      "print-hello-pgr9m-1617587061           0/2     Completed            0             15d\r\n",
      "print-hello-pgr9m-2372244718           0/2     Error                0             15d\r\n",
      "print-hello-qdtt6-1454533976           0/2     ContainerCannotRun   1 (19d ago)   19d\r\n",
      "print-hello-qkfmq-1988231799           0/2     Error                0             19d\r\n",
      "print-hello-qrsv8-1095848717           0/2     Error                0             17d\r\n",
      "print-hello-s6bdt-3361099108           0/2     Completed            0             25d\r\n",
      "print-hello-s6hkz-3016708065           0/2     Completed            0             14d\r\n",
      "print-hello-s6hkz-3236841465           0/2     Error                0             14d\r\n",
      "print-hello-s6hkz-495658892            0/2     Completed            0             14d\r\n",
      "print-hello-s6hkz-512436511            0/2     Completed            0             14d\r\n",
      "print-hello-sz76s-2571960948           0/2     Completed            0             14d\r\n",
      "print-hello-sz76s-2588738567           0/2     Completed            0             14d\r\n",
      "print-hello-sz76s-3385027276           0/2     Completed            0             14d\r\n",
      "print-hello-t6wm9-1707577920           0/2     Completed            0             15d\r\n",
      "print-hello-t6wm9-1724355539           0/2     Completed            0             15d\r\n",
      "print-hello-t6wm9-1916675440           0/2     Error                0             15d\r\n",
      "print-hello-tjsns-3227767902           0/2     Completed            0             15d\r\n",
      "print-hello-tjsns-3244545521           0/2     Completed            0             15d\r\n",
      "print-hello-tm7p7-1457616728           0/2     ContainerCannotRun   0             25d\r\n",
      "print-hello-tntxz-4024455683           0/2     ContainerCannotRun   0             19d\r\n",
      "print-hello-tt9w9-2971653446           0/2     Error                0             15d\r\n",
      "print-hello-tt9w9-2988431065           0/2     Error                0             15d\r\n",
      "print-hello-v2mmg-1479220814           0/2     Error                0             14d\r\n",
      "print-hello-v2mmg-3387048514           0/2     Completed            0             14d\r\n",
      "print-hello-v2mmg-3403826133           0/2     Completed            0             14d\r\n",
      "print-hello-v6bkb-3476130246           0/2     ContainerCannotRun   0             19d\r\n",
      "print-hello-vhbqf-31315054             0/2     Error                0             17d\r\n",
      "print-hello-vjngm-162273029            0/2     Error                0             19d\r\n",
      "print-hello-w9k4b-1092550004           0/2     ContainerCannotRun   0             19d\r\n",
      "print-hello-wbwd2-36596519             0/2     Error                0             15d\r\n",
      "print-hello-wbwd2-3856185870           0/2     Completed            0             15d\r\n",
      "print-hello-wbwd2-3872963489           0/2     Completed            0             15d\r\n",
      "print-hello-wd4km-2356242436           0/2     Completed            0             14d\r\n",
      "print-hello-wd4km-2373020055           0/2     Completed            0             14d\r\n",
      "print-hello-wd4km-3155060316           0/2     Completed            0             14d\r\n",
      "print-hello-wfc2b-38295004             0/2     Completed            0             14d\r\n",
      "print-hello-wfc2b-55072623             0/2     Completed            0             14d\r\n",
      "print-hello-wfc2b-74479537             0/2     Completed            0             14d\r\n",
      "print-hello-wgrqd-287310008            0/2     ContainerCannotRun   0             17d\r\n",
      "print-hello-wks4l-1355974218           0/2     Completed            0             15d\r\n",
      "print-hello-wks4l-1372751837           0/2     Completed            0             15d\r\n",
      "print-hello-wks4l-1785031782           0/2     Error                0             15d\r\n",
      "print-hello-wtg65-1756865904           0/2     Error                0             17d\r\n",
      "print-hello-z6hxg-2370909588           0/2     Error                0             17d\r\n",
      "print-hello-zf6zm-2512486450           0/2     ContainerCannotRun   0             25d\r\n",
      "print-hello-zmrhs-2871290698           0/2     Error                0             15d\r\n",
      "print-hello-zmrhs-2888068317           0/2     Error                0             15d\r\n",
      "print-hello-zt7jq-1996847976           0/2     Completed            0             15d\r\n",
      "print-hello-zt7jq-2013625595           0/2     Completed            0             15d\r\n",
      "print-hello-zt7jq-3188754277           0/2     Completed            0             15d\r\n",
      "screening-5mc7p-3937202176             0/2     Completed            0             26d\r\n",
      "screening-745q7-4024946185             0/2     Completed            0             26d\r\n",
      "screening-bxnkf-2771875223             0/2     Completed            0             26d\r\n",
      "screening-dcnjr-1739103039             0/2     Error                0             26d\r\n",
      "screening-dgt54-3711753657             0/2     Completed            0             26d\r\n",
      "screening-gfndd-3625956930             0/2     Error                0             26d\r\n",
      "screening-gfndd-3642734549             0/2     Completed            0             26d\r\n",
      "screening-jzwj5-4245890520             0/2     Completed            0             26d\r\n",
      "screening-jzwj5-4262668139             0/2     Completed            0             26d\r\n",
      "screening-lhcq2-3441269174             0/2     Completed            0             26d\r\n",
      "screening-m7t2z-1768931676             0/2     Completed            0             26d\r\n",
      "screening-mjkfq-3771225503             0/2     Error                0             26d\r\n",
      "screening-nwpxz-3526989157             0/2     Error                0             26d\r\n",
      "screening-zcsjc-2760682969             0/2     Error                0             26d\r\n",
      "train-4726x-1439187467                 0/2     Completed            0             46d\r\n",
      "train-6xvcv-2653477587                 0/2     Completed            0             45d\r\n",
      "train-6xvcv-4270668077                 0/2     Completed            0             45d\r\n",
      "train-7p8dh-3460891625                 0/2     Completed            0             46d\r\n",
      "train-94wjw-802169329                  0/2     Completed            0             46d\r\n",
      "train-9k7b8-1413467331                 0/2     Error                0             17d\r\n",
      "train-bwtdf-4279315827                 0/2     Completed            0             45d\r\n",
      "train-c8hzg-2049477464                 0/2     Completed            0             45d\r\n",
      "train-gknt4-3587181214                 0/2     Completed            0             46d\r\n",
      "train-hgwsb-3053072883                 0/2     Error                0             45d\r\n",
      "train-k7v8x-2060238518                 0/2     Completed            0             46d\r\n",
      "train-kgsbl-4266605645                 0/2     Completed            0             46d\r\n",
      "train-n7vt2-2600505141                 0/2     Completed            0             46d\r\n",
      "train-nlmh5-2270096148                 0/2     Completed            0             46d\r\n",
      "train-q2ppk-968473906                  0/2     Completed            0             46d\r\n"
     ]
    },
    {
     "name": "stdout",
     "output_type": "stream",
     "text": [
      "train-qhm2v-1759954948                 0/2     Completed            0             17d\r\n",
      "train-qhm2v-1828213590                 0/2     Completed            0             17d\r\n",
      "train-rsq6s-3204675437                 0/2     Completed            0             46d\r\n",
      "train-sjh4h-4116987539                 0/2     Error                0             45d\r\n",
      "train-vlx4q-1613118125                 0/2     Completed            0             45d\r\n",
      "train-xs8bs-2248130112                 0/2     Completed            0             17d\r\n",
      "train-xs8bs-3989070442                 0/2     Completed            0             17d\r\n",
      "train-zxflm-1378528497                 0/2     Init:Error           0             17d\r\n",
      "train-zxflm-603572723                  0/2     Completed            0             17d\r\n",
      "workflow-controller-74646f5d98-cbcfh   1/1     Running              0             15m\r\n"
     ]
    }
   ],
   "source": [
    "!kubectl get pod -n argo"
   ]
  },
  {
   "cell_type": "markdown",
   "id": "ff5b1cde",
   "metadata": {},
   "source": [
    "NOTE: This process might take a little while, depending on the internet speed. Once the `STATUS` of all pods is `RUNNING`, you can proceed with the next step."
   ]
  },
  {
   "cell_type": "markdown",
   "id": "d345bf7f",
   "metadata": {},
   "source": [
    "3. Open a port-forward so you can access the UI:\n",
    "\n",
    "    Since we need to keep this UI running, we can run this command in the terminal:\n",
    "    \n",
    "```shell\n",
    "kubectl -n argo port-forward deployment/argo-server 2746:2746\n",
    "```"
   ]
  },
  {
   "cell_type": "markdown",
   "id": "e444ec95",
   "metadata": {},
   "source": [
    "We can access the Argo UI: https://127.0.0.1:2746\n",
    "\n",
    "Security warning will be shown but we can safely ignore it. This is because we haven't add ceritificate to this address. "
   ]
  },
  {
   "cell_type": "markdown",
   "id": "05647b12",
   "metadata": {},
   "source": [
    "4. Open a port-forward so you can access the artifact repository\n",
    "    \n",
    "    Open another terminal and run this, because you want to keep artifact respository running. Note that you don't need to ingress the artifact repository if you are not downloading or uploading artifact.\n",
    "    \n",
    "```shell\n",
    "kubectl -n argo port-forward deployment/minio 9000:9000\n",
    "```"
   ]
  },
  {
   "cell_type": "markdown",
   "id": "2a1c9b23",
   "metadata": {},
   "source": [
    "In the previous steps, we finished installing and seting up the necessary tools and environments for dflow to run. In this section, we will prepare a simple python script using dflow."
   ]
  },
  {
   "cell_type": "markdown",
   "id": "a45f8c04",
   "metadata": {},
   "source": [
    "As explained in the [readme](https://github.com/dptech-corp/dflow#122--op-template), OP template is the fundamental component in dflow. For this particular workflow above, we need two OP templates:"
   ]
  },
  {
   "cell_type": "markdown",
   "id": "48fab8d3",
   "metadata": {},
   "source": [
    "Import modules"
   ]
  },
  {
   "cell_type": "code",
   "execution_count": 6,
   "id": "88958fb7",
   "metadata": {},
   "outputs": [],
   "source": [
    "import json\n",
    "from typing import List\n",
    "from dflow import (\n",
    "    Workflow,\n",
    "    Step,\n",
    "    argo_range,\n",
    "    SlurmRemoteExecutor,\n",
    "    upload_artifact,\n",
    "    download_artifact,\n",
    "    InputArtifact,\n",
    "    OutputArtifact,\n",
    "    ShellOPTemplate\n",
    ")\n",
    "from dflow.python import (\n",
    "    PythonOPTemplate,\n",
    "    OP,\n",
    "    OPIO,\n",
    "    OPIOSign,\n",
    "    Artifact,\n",
    "    Slices\n",
    ")\n",
    "import subprocess, os, shutil, glob\n",
    "from pathlib import Path\n",
    "from typing import List"
   ]
  },
  {
   "cell_type": "markdown",
   "id": "a3af57db",
   "metadata": {},
   "source": [
    "Define the screen class. This step will download all the .cif files that satisfy the screening criteria in screening code.\n",
    "This part needs inputs including 'api' for accessing materials project, 'screening_code' for different screening criteria, 'dirct' for storing the screening results, and 'atom_init' as a matrix for machine learning step."
   ]
  },
  {
   "cell_type": "code",
   "execution_count": 7,
   "id": "0a31be90",
   "metadata": {},
   "outputs": [],
   "source": [
    "class Screen(OP):\n",
    "    def __init__(self):\n",
    "        pass\n",
    "\n",
    "    @classmethod\n",
    "    def get_input_sign(cls):\n",
    "        return OPIOSign({\n",
    "            'dirct': str,\n",
    "            'api': str,\n",
    "            'screen_code': Artifact(Path),\n",
    "            'atom_init': Artifact(Path),\n",
    "        })\n",
    "\n",
    "    @classmethod\n",
    "    def get_output_sign(cls):\n",
    "        return OPIOSign({\n",
    "            'DownloadCIF_output' : Artifact(Path),\n",
    "        })\n",
    "\n",
    "    @OP.exec_sign_check\n",
    "    def execute(self, op_in: OPIO) -> OPIO:\n",
    "        cmd = f'python {op_in[\"screen_code\"]} {op_in[\"api\"]} {op_in[\"dirct\"]}'\n",
    "        subprocess.call(cmd, shell=True)\n",
    "        cmd = f'cp {op_in[\"atom_init\"]} {op_in[\"dirct\"]}'\n",
    "        subprocess.call(cmd, shell=True)\n",
    "        return OPIO({\n",
    "            \"DownloadCIF_output\": Path(f'{op_in[\"dirct\"]}'), \n",
    "        })"
   ]
  },
  {
   "cell_type": "markdown",
   "id": "12e909a4",
   "metadata": {},
   "source": [
    "Define the train class. This step will use one of the screening results to train the cgcnn model. \n",
    "This part needs inputs including 'train_code' and 'train_data_set' from previous screening step. It will output the 'trained_model' for prediction in next step."
   ]
  },
  {
   "cell_type": "code",
   "execution_count": 8,
   "id": "da0d8b21",
   "metadata": {},
   "outputs": [],
   "source": [
    "class Train(OP):\n",
    "    def __init__(self):\n",
    "        pass\n",
    "\n",
    "    @classmethod\n",
    "    def get_input_sign(cls):\n",
    "        return OPIOSign({\n",
    "            #'train_parameter': list,\n",
    "            'train_code': Artifact(Path),\n",
    "            'train_data_set': Artifact(Path),\n",
    "        })\n",
    "\n",
    "    @classmethod\n",
    "    def get_output_sign(cls):\n",
    "        return OPIOSign({\n",
    "            'trained_model' : Artifact(Path),\n",
    "        })\n",
    "\n",
    "    @OP.exec_sign_check\n",
    "    def execute(self, op_in: OPIO) -> OPIO:\n",
    "        cmd = f'cd {op_in[\"train_code\"]} && python main.py --train-size 50 --val-size 2 --test-size 1 {op_in[\"train_data_set\"]}'\n",
    "        subprocess.call(cmd, shell=True)\n",
    "        return OPIO({\n",
    "            \"trained_model\": Path(op_in[\"train_code\"])/'model_best.pth.tar'\n",
    "        })"
   ]
  },
  {
   "cell_type": "markdown",
   "id": "4aad5296",
   "metadata": {},
   "source": [
    "Define the predict class. This step will use the trained model in previous Train step and screening results from the Screen step. It will output the predict the materials property for the screening results."
   ]
  },
  {
   "cell_type": "code",
   "execution_count": 9,
   "id": "fe4f2060",
   "metadata": {},
   "outputs": [],
   "source": [
    "class Predict(OP):\n",
    "    def __init__(self):\n",
    "        pass\n",
    "\n",
    "    @classmethod\n",
    "    def get_input_sign(cls):\n",
    "        return OPIOSign({\n",
    "            'predict_code': Artifact(Path),\n",
    "            'predict_model': Artifact(Path),\n",
    "            'predict_data_set': Artifact(Path),\n",
    "        })\n",
    "\n",
    "    @classmethod\n",
    "    def get_output_sign(cls):\n",
    "        return OPIOSign({\n",
    "            'predict_result' : Artifact(Path),\n",
    "        })\n",
    "\n",
    "    @OP.exec_sign_check\n",
    "    def execute(self, op_in: OPIO) -> OPIO:\n",
    "        #cmd = f'cd {op_in[\"predict_model\"]} && ls && cp model_best.pth.tar {op_in[\"predict_code\"]} && cd .. && ls'\n",
    "        #subprocess.call(cmd, shell=True)\n",
    "        cmd = f'cd {op_in[\"predict_code\"]} && python predict.py {op_in[\"predict_model\"]} {op_in[\"predict_data_set\"]} && ls && cd .. && ls'\n",
    "        subprocess.call(cmd, shell=True)\n",
    "\n",
    "        return OPIO({\n",
    "            \"predict_result\": Path(op_in[\"predict_code\"])/'test_results.csv' \n",
    "        })"
   ]
  },
  {
   "cell_type": "markdown",
   "id": "c41683a5",
   "metadata": {},
   "source": [
    "Upload the screening codes in screen_name_ls, 'atom_init.json' as a matrix for machine learning, training code in train folder, and prediction code in predict folder\n",
    "Setup the screen step in a list (step_screen_ls) for parallel computing.\n",
    "Your image and API key is needed"
   ]
  },
  {
   "cell_type": "code",
   "execution_count": 11,
   "id": "6f088e0f",
   "metadata": {},
   "outputs": [],
   "source": [
    "screen_name_ls = [\"screen_1.py\", \"screen_2.py\"]\n",
    "atom_init = upload_artifact(\"atom_init.json\")\n",
    "train_main = upload_artifact(\"train\")\n",
    "predict_main = upload_artifact(\"predict\")\n",
    "step_screen_ls = []\n",
    "screen_list = []\n",
    "for i, criteria in enumerate(screen_name_ls):\n",
    "    screen_list.append(upload_artifact(screen_name_ls[i]))\n",
    "    step_screen =  Step(\n",
    "        f\"screen-{i}\",\n",
    "        PythonOPTemplate(Screen, image = '--your-image--',),\n",
    "        artifacts = {\"atom_init\": atom_init, \\\n",
    "                    \"screen_code\": screen_list[i]},\n",
    "        parameters = {\"dirct\": screen_name_ls[i][:-3], \"api\": '--your-api-key--'},\n",
    "    )\n",
    "    step_screen_ls.append(step_screen)"
   ]
  },
  {
   "cell_type": "markdown",
   "id": "4fc0468e",
   "metadata": {},
   "source": [
    "Setup the train step. Here it use the screening results in 'step_screen_ls[0]', which can be changed as needed\n",
    "Your image is needed"
   ]
  },
  {
   "cell_type": "code",
   "execution_count": 12,
   "id": "cc5d077f",
   "metadata": {},
   "outputs": [],
   "source": [
    "train = Step(\n",
    "    \"train\",\n",
    "    PythonOPTemplate(Train, image = '--your-image--',),\n",
    "    artifacts={\"train_code\": train_main, \\\n",
    "               \"train_data_set\": step_screen_ls[0].outputs.artifacts[\"DownloadCIF_output\"],},\n",
    ")"
   ]
  },
  {
   "cell_type": "markdown",
   "id": "bc0a9e1d",
   "metadata": {},
   "source": [
    "Stepup the prediction step. Here it use the trained model and screening results in 'step_screen_ls[1]', which can be changed as needed\n",
    "Your image is needed"
   ]
  },
  {
   "cell_type": "code",
   "execution_count": 13,
   "id": "3e1d9920",
   "metadata": {},
   "outputs": [],
   "source": [
    "predict = Step(\n",
    "    \"predict\",\n",
    "    PythonOPTemplate(Predict, image = '--your-image--',),\n",
    "    artifacts={\"predict_code\": predict_main, \\\n",
    "               \"predict_data_set\": step_screen_ls[1].outputs.artifacts[\"DownloadCIF_output\"],\\\n",
    "               \"predict_model\": train.outputs.artifacts[\"trained_model\"],},\n",
    ")"
   ]
  },
  {
   "cell_type": "markdown",
   "id": "04c67d20",
   "metadata": {},
   "source": [
    "Add the steps and submit the workflow"
   ]
  },
  {
   "cell_type": "code",
   "execution_count": 14,
   "id": "da3aca24",
   "metadata": {},
   "outputs": [
    {
     "name": "stdout",
     "output_type": "stream",
     "text": [
      "Workflow has been submitted (ID: print-hello-tmd4p)\n"
     ]
    },
    {
     "data": {
      "text/plain": [
       "{'metadata': {'name': 'print-hello-tmd4p', 'generateName': 'print-hello-', 'namespace': 'argo', 'uid': 'b011faf7-6a00-422b-9eff-9e575905c0a8', 'resourceVersion': '1100633', 'generation': 1, 'creationTimestamp': '2022-08-08T16:53:27Z', 'labels': {'workflows.argoproj.io/creator': 'system-serviceaccount-argo-argo-server'}, 'managedFields': [{'manager': 'argo', 'operation': 'Update', 'apiVersion': 'argoproj.io/v1alpha1', 'time': '2022-08-08T16:53:27Z', 'fieldsType': 'FieldsV1', 'fieldsV1': {'f:metadata': {'f:generateName': {}, 'f:labels': {'.': {}, 'f:workflows.argoproj.io/creator': {}}}, 'f:spec': {}, 'f:status': {}}}]}, 'spec': {'templates': [{'name': 'print-hello-steps', 'inputs': {}, 'outputs': {}, 'metadata': {}, 'steps': [[{'name': 'screen-0', 'template': 'screen-lv6gj', 'arguments': {'parameters': [{'name': 'dirct', 'value': 'screen_1', 'description': '{\"type\": \"<class \\'str\\'>\"}'}, {'name': 'api', 'value': 'v8mU74QhZSIisN26', 'description': '{\"type\": \"<class \\'str\\'>\"}'}], 'artifacts': [{'name': 'screen_code', 'path': '/tmp/inputs/artifacts/screen_code', 's3': {'key': 'upload/27964242-87ad-45ea-be05-3f13acfea9a4/tmpbz7t9y4t.tgz'}}, {'name': 'atom_init', 'path': '/tmp/inputs/artifacts/atom_init', 's3': {'key': 'upload/d270d353-a487-489b-b3b2-5b87bb2574ca/tmpnmqz3jsy.tgz'}}, {'name': 'dflow_python_packages', 'path': '/tmp/inputs/artifacts/dflow_python_packages', 's3': {'key': 'upload/962c8861-8850-4eb7-9fe2-48e2aaf06998/tmp35_ruhoa.tgz'}}]}, 'continueOn': {}}, {'name': 'screen-1', 'template': 'screen-b2wqz', 'arguments': {'parameters': [{'name': 'dirct', 'value': 'screen_2', 'description': '{\"type\": \"<class \\'str\\'>\"}'}, {'name': 'api', 'value': 'v8mU74QhZSIisN26', 'description': '{\"type\": \"<class \\'str\\'>\"}'}], 'artifacts': [{'name': 'screen_code', 'path': '/tmp/inputs/artifacts/screen_code', 's3': {'key': 'upload/5f501604-0196-42a9-ade9-6b1b28977d20/tmpx3jdvhri.tgz'}}, {'name': 'atom_init', 'path': '/tmp/inputs/artifacts/atom_init', 's3': {'key': 'upload/d270d353-a487-489b-b3b2-5b87bb2574ca/tmpnmqz3jsy.tgz'}}, {'name': 'dflow_python_packages', 'path': '/tmp/inputs/artifacts/dflow_python_packages', 's3': {'key': 'upload/962c8861-8850-4eb7-9fe2-48e2aaf06998/tmp35_ruhoa.tgz'}}]}, 'continueOn': {}}], [{'name': 'train', 'template': 'train-0dj6z', 'arguments': {'artifacts': [{'name': 'train_code', 'path': '/tmp/inputs/artifacts/train_code', 's3': {'key': 'upload/0528da4c-2296-4ab4-94cb-65eb6bb8d95b/tmpqifkvkby.tgz'}}, {'name': 'train_data_set', 'path': '/tmp/inputs/artifacts/train_data_set', 'from': '{{steps.screen-0.outputs.artifacts.DownloadCIF_output}}'}, {'name': 'dflow_python_packages', 'path': '/tmp/inputs/artifacts/dflow_python_packages', 's3': {'key': 'upload/962c8861-8850-4eb7-9fe2-48e2aaf06998/tmp35_ruhoa.tgz'}}]}, 'continueOn': {}}], [{'name': 'predict', 'template': 'predict-uojzi', 'arguments': {'artifacts': [{'name': 'predict_code', 'path': '/tmp/inputs/artifacts/predict_code', 's3': {'key': 'upload/f5f176f2-226b-4f4b-8448-0dae326f15f4/tmpeemr0erz.tgz'}}, {'name': 'predict_model', 'path': '/tmp/inputs/artifacts/predict_model', 'from': '{{steps.train.outputs.artifacts.trained_model}}'}, {'name': 'predict_data_set', 'path': '/tmp/inputs/artifacts/predict_data_set', 'from': '{{steps.screen-1.outputs.artifacts.DownloadCIF_output}}'}, {'name': 'dflow_python_packages', 'path': '/tmp/inputs/artifacts/dflow_python_packages', 's3': {'key': 'upload/962c8861-8850-4eb7-9fe2-48e2aaf06998/tmp35_ruhoa.tgz'}}]}, 'continueOn': {}}]]}, {'name': 'screen-lv6gj', 'inputs': {'parameters': [{'name': 'dirct', 'description': '{\"type\": \"<class \\'str\\'>\"}'}, {'name': 'api', 'description': '{\"type\": \"<class \\'str\\'>\"}'}], 'artifacts': [{'name': 'screen_code', 'path': '/tmp/inputs/artifacts/screen_code'}, {'name': 'atom_init', 'path': '/tmp/inputs/artifacts/atom_init'}, {'name': 'dflow_python_packages', 'path': '/tmp/inputs/artifacts/dflow_python_packages'}]}, 'outputs': {'artifacts': [{'name': 'DownloadCIF_output', 'path': '/tmp/outputs/artifacts/DownloadCIF_output'}]}, 'metadata': {'annotations': {'workflows.argoproj.io/progress': '0/1'}}, 'script': {'name': '', 'image': 'kianpu/cgcnn:v1.1.0', 'command': ['python'], 'resources': {}, 'source': 'import os, sys, json\\npackage_root = \\'/tmp/inputs/artifacts/dflow_python_packages\\'\\ncatalog_dir = os.path.join(package_root, \\'.dflow\\')\\nif os.path.exists(catalog_dir):\\n    for f in os.listdir(catalog_dir):\\n        with open(os.path.join(catalog_dir, f), \\'r\\') as fd:\\n            for item in json.load(fd)[\\'path_list\\']:\\n                sys.path.insert(0, os.path.join(package_root, os.path.dirname(item[\\'dflow_list_item\\'])))\\nfrom dflow import config\\nconfig[\\'save_path_as_parameter\\'] = False\\nconfig[\\'catalog_dir_name\\'] = \\'.dflow\\'\\nimport cloudpickle\\nScreen = cloudpickle.loads(b\\'\\\\x80\\\\x05\\\\x95\\\\x90\\\\x08\\\\x00\\\\x00\\\\x00\\\\x00\\\\x00\\\\x00\\\\x8c\\\\x17cloudpickle.cloudpickle\\\\x94\\\\x8c\\\\x14_make_skeleton_class\\\\x94\\\\x93\\\\x94(\\\\x8c\\\\x03abc\\\\x94\\\\x8c\\\\x07ABCMeta\\\\x94\\\\x93\\\\x94\\\\x8c\\\\x06Screen\\\\x94\\\\x8c\\\\x0fdflow.python.op\\\\x94\\\\x8c\\\\x02OP\\\\x94\\\\x93\\\\x94\\\\x85\\\\x94}\\\\x94\\\\x8c 041015af37e542cdb22191c6eea63c02\\\\x94Nt\\\\x94R\\\\x94\\\\x8c\\\\x1ccloudpickle.cloudpickle_fast\\\\x94\\\\x8c\\\\x0f_class_setstate\\\\x94\\\\x93\\\\x94h\\\\x0e}\\\\x94(\\\\x8c\\\\n__module__\\\\x94\\\\x8c\\\\x08__main__\\\\x94\\\\x8c\\\\x08__init__\\\\x94h\\\\x00\\\\x8c\\\\x0e_make_function\\\\x94\\\\x93\\\\x94(h\\\\x00\\\\x8c\\\\r_builtin_type\\\\x94\\\\x93\\\\x94\\\\x8c\\\\x08CodeType\\\\x94\\\\x85\\\\x94R\\\\x94(K\\\\x01K\\\\x00K\\\\x00K\\\\x01K\\\\x01KCC\\\\x04d\\\\x00S\\\\x00\\\\x94N\\\\x85\\\\x94)\\\\x8c\\\\x04self\\\\x94\\\\x85\\\\x94\\\\x8cN/var/folders/6h/44ddj9d13sq380tdgns_1p0w0000gn/T/ipykernel_84217/1911735574.py\\\\x94h\\\\x15K\\\\x02C\\\\x02\\\\x00\\\\x01\\\\x94))t\\\\x94R\\\\x94}\\\\x94(\\\\x8c\\\\x0b__package__\\\\x94N\\\\x8c\\\\x08__name__\\\\x94h\\\\x14uNNNt\\\\x94R\\\\x94h\\\\x0f\\\\x8c\\\\x12_function_setstate\\\\x94\\\\x93\\\\x94h)}\\\\x94}\\\\x94(h\\\\\\'h\\\\x15\\\\x8c\\\\x0c__qualname__\\\\x94\\\\x8c\\\\x0fScreen.__init__\\\\x94\\\\x8c\\\\x0f__annotations__\\\\x94}\\\\x94\\\\x8c\\\\x0e__kwdefaults__\\\\x94N\\\\x8c\\\\x0c__defaults__\\\\x94Nh\\\\x13h\\\\x14\\\\x8c\\\\x07__doc__\\\\x94N\\\\x8c\\\\x0b__closure__\\\\x94N\\\\x8c\\\\x17_cloudpickle_submodules\\\\x94]\\\\x94\\\\x8c\\\\x0b__globals__\\\\x94}\\\\x94u\\\\x86\\\\x94\\\\x86R0\\\\x8c\\\\x0eget_input_sign\\\\x94\\\\x8c\\\\x08builtins\\\\x94\\\\x8c\\\\x0bclassmethod\\\\x94\\\\x93\\\\x94h\\\\x17(h\\\\x1c(K\\\\x01K\\\\x00K\\\\x00K\\\\x01K\\\\x06KCC\\\\x1at\\\\x00t\\\\x01t\\\\x01t\\\\x02t\\\\x03\\\\x83\\\\x01t\\\\x02t\\\\x03\\\\x83\\\\x01d\\\\x01\\\\x9c\\\\x04\\\\x83\\\\x01S\\\\x00\\\\x94N(\\\\x8c\\\\x05dirct\\\\x94\\\\x8c\\\\x03api\\\\x94\\\\x8c\\\\x0bscreen_code\\\\x94\\\\x8c\\\\tatom_init\\\\x94t\\\\x94\\\\x86\\\\x94(\\\\x8c\\\\x08OPIOSign\\\\x94\\\\x8c\\\\x03str\\\\x94\\\\x8c\\\\x08Artifact\\\\x94\\\\x8c\\\\x04Path\\\\x94t\\\\x94\\\\x8c\\\\x03cls\\\\x94\\\\x85\\\\x94h!h;K\\\\x05C\\\\x0c\\\\x00\\\\x02\\\\x02\\\\x01\\\\x02\\\\x01\\\\x02\\\\x01\\\\x06\\\\x01\\\\x06\\\\xfc\\\\x94))t\\\\x94R\\\\x94h%NNNt\\\\x94R\\\\x94h+hQ}\\\\x94}\\\\x94(h\\\\\\'h;h.\\\\x8c\\\\x15Screen.get_input_sign\\\\x94h0}\\\\x94h2Nh3Nh\\\\x13h\\\\x14h4Nh5Nh6]\\\\x94h8}\\\\x94(hF\\\\x8c\\\\x11dflow.python.opio\\\\x94hF\\\\x93\\\\x94hHhXhH\\\\x93\\\\x94hI\\\\x8c\\\\x07pathlib\\\\x94hI\\\\x93\\\\x94uu\\\\x86\\\\x94\\\\x86R0\\\\x85\\\\x94R\\\\x94\\\\x8c\\\\x0fget_output_sign\\\\x94h>h\\\\x17(h\\\\x1c(K\\\\x01K\\\\x00K\\\\x00K\\\\x01K\\\\x04KCC\\\\x10t\\\\x00d\\\\x01t\\\\x01t\\\\x02\\\\x83\\\\x01i\\\\x01\\\\x83\\\\x01S\\\\x00\\\\x94N\\\\x8c\\\\x12DownloadCIF_output\\\\x94\\\\x86\\\\x94hFhHhI\\\\x87\\\\x94hLh!h`K\\\\x0eC\\\\x06\\\\x00\\\\x02\\\\x02\\\\x01\\\\x08\\\\xff\\\\x94))t\\\\x94R\\\\x94h%NNNt\\\\x94R\\\\x94h+hi}\\\\x94}\\\\x94(h\\\\\\'h`h.\\\\x8c\\\\x16Screen.get_output_sign\\\\x94h0}\\\\x94h2Nh3Nh\\\\x13h\\\\x14h4Nh5Nh6]\\\\x94h8}\\\\x94(hFhYhHhZhIh\\\\\\\\uu\\\\x86\\\\x94\\\\x86R0\\\\x85\\\\x94R\\\\x94\\\\x8c\\\\x07execute\\\\x94h\\\\x17(h\\\\x1c(K\\\\x02K\\\\x00K\\\\x00K\\\\x03K\\\\x05K\\\\x13C.t\\\\x00\\\\xa0\\\\x01|\\\\x01|\\\\x00\\\\xa0\\\\x02\\\\xa1\\\\x00\\\\xa1\\\\x02\\\\x01\\\\x00\\\\x88\\\\x00|\\\\x00|\\\\x01\\\\x83\\\\x02}\\\\x02t\\\\x00\\\\xa0\\\\x01|\\\\x02|\\\\x00\\\\xa0\\\\x03\\\\xa1\\\\x00\\\\xa1\\\\x02\\\\x01\\\\x00|\\\\x02S\\\\x00\\\\x94N\\\\x85\\\\x94(h\\\\x08\\\\x8c\\\\x10_check_signature\\\\x94h;h`t\\\\x94h\\\\x1f\\\\x8c\\\\x05op_in\\\\x94\\\\x8c\\\\x06op_out\\\\x94\\\\x87\\\\x94\\\\x8ca/Users/zijiancai/opt/miniconda3/envs/dflow-jupyter/lib/python3.9/site-packages/dflow/python/op.py\\\\x94\\\\x8c\\\\x0cwrapper_exec\\\\x94K:C\\\\x08\\\\x00\\\\x02\\\\x10\\\\x01\\\\n\\\\x01\\\\x10\\\\x01\\\\x94\\\\x8c\\\\x04func\\\\x94\\\\x85\\\\x94)t\\\\x94R\\\\x94}\\\\x94(h&\\\\x8c\\\\x0cdflow.python\\\\x94h\\\\\\'h\\\\x07\\\\x8c\\\\x08__file__\\\\x94\\\\x8ca/Users/zijiancai/opt/miniconda3/envs/dflow-jupyter/lib/python3.9/site-packages/dflow/python/op.py\\\\x94uNNh\\\\x00\\\\x8c\\\\x10_make_empty_cell\\\\x94\\\\x93\\\\x94)R\\\\x94\\\\x85\\\\x94t\\\\x94R\\\\x94h+h\\\\x8b}\\\\x94\\\\x8c\\\\x0b__wrapped__\\\\x94h\\\\x17(h\\\\x1c(K\\\\x02K\\\\x00K\\\\x00K\\\\x03K\\\\x07KCCld\\\\x01|\\\\x01d\\\\x02\\\\x19\\\\x00\\\\x9b\\\\x00d\\\\x03|\\\\x01d\\\\x04\\\\x19\\\\x00\\\\x9b\\\\x00d\\\\x03|\\\\x01d\\\\x05\\\\x19\\\\x00\\\\x9b\\\\x00\\\\x9d\\\\x06}\\\\x02t\\\\x00j\\\\x01|\\\\x02d\\\\x06d\\\\x07\\\\x8d\\\\x02\\\\x01\\\\x00d\\\\x08|\\\\x01d\\\\t\\\\x19\\\\x00\\\\x9b\\\\x00d\\\\x03|\\\\x01d\\\\x05\\\\x19\\\\x00\\\\x9b\\\\x00\\\\x9d\\\\x04}\\\\x02t\\\\x00j\\\\x01|\\\\x02d\\\\x06d\\\\x07\\\\x8d\\\\x02\\\\x01\\\\x00t\\\\x02d\\\\nt\\\\x03|\\\\x01d\\\\x05\\\\x19\\\\x00\\\\x9b\\\\x00\\\\x83\\\\x01i\\\\x01\\\\x83\\\\x01S\\\\x00\\\\x94(N\\\\x8c\\\\x07python \\\\x94hB\\\\x8c\\\\x01 \\\\x94hAh@\\\\x88\\\\x8c\\\\x05shell\\\\x94\\\\x85\\\\x94\\\\x8c\\\\x03cp \\\\x94hChbt\\\\x94(\\\\x8c\\\\nsubprocess\\\\x94\\\\x8c\\\\x04call\\\\x94\\\\x8c\\\\x04OPIO\\\\x94hIt\\\\x94h\\\\x1fhx\\\\x8c\\\\x03cmd\\\\x94\\\\x87\\\\x94h!hsK\\\\x14C\\\\x0e\\\\x00\\\\x02\"\\\\x01\\\\x0e\\\\x01\\\\x18\\\\x01\\\\x0e\\\\x01\\\\x02\\\\x01\\\\x0e\\\\xff\\\\x94))t\\\\x94R\\\\x94h%NNNt\\\\x94R\\\\x94h+h\\\\x9f}\\\\x94}\\\\x94(h\\\\\\'hsh.\\\\x8c\\\\x0eScreen.execute\\\\x94h0}\\\\x94(hxhXh\\\\x97\\\\x93\\\\x94\\\\x8c\\\\x06return\\\\x94h\\\\xa4uh2Nh3Nh\\\\x13h\\\\x14h4Nh5Nh6]\\\\x94h8}\\\\x94(h\\\\x95h\\\\x00\\\\x8c\\\\tsubimport\\\\x94\\\\x93\\\\x94h\\\\x95\\\\x85\\\\x94R\\\\x94h\\\\x97h\\\\xa4hIh\\\\\\\\uu\\\\x86\\\\x94\\\\x86R0s}\\\\x94(h\\\\\\'hsh.h\\\\xa2h0h\\\\xa3h2Nh3Nh\\\\x13h\\\\x14h4Nh5h\\\\x00\\\\x8c\\\\n_make_cell\\\\x94\\\\x93\\\\x94h\\\\x9f\\\\x85\\\\x94R\\\\x94\\\\x85\\\\x94h6]\\\\x94h8}\\\\x94h\\\\x08h\\\\tsu\\\\x86\\\\x94\\\\x86R0h4N\\\\x8c\\\\x13__abstractmethods__\\\\x94(\\\\x91\\\\x94\\\\x8c\\\\t_abc_impl\\\\x94]\\\\x94u}\\\\x94\\\\x86\\\\x94\\\\x86R0.\\')\\nimport os, sys, traceback, jsonpickle\\nfrom dflow.python import OPIO, TransientError, FatalError\\nfrom dflow.python.utils import handle_input_artifact, handle_input_parameter\\nfrom dflow.python.utils import handle_output_artifact, handle_output_parameter\\nfrom __main__ import Screen\\n\\nop_obj = Screen()\\ninput = OPIO()\\ninput_sign = Screen.get_input_sign()\\ninput[\\'dirct\\'] = handle_input_parameter(\\'dirct\\', r\\'\\'\\'{{inputs.parameters.dirct}}\\'\\'\\', input_sign[\\'dirct\\'], None, \\'/tmp\\')\\ninput[\\'api\\'] = handle_input_parameter(\\'api\\', r\\'\\'\\'{{inputs.parameters.api}}\\'\\'\\', input_sign[\\'api\\'], None, \\'/tmp\\')\\ninput[\\'screen_code\\'] = handle_input_artifact(\\'screen_code\\', input_sign[\\'screen_code\\'], None, \\'/tmp\\')\\ninput[\\'atom_init\\'] = handle_input_artifact(\\'atom_init\\', input_sign[\\'atom_init\\'], None, \\'/tmp\\')\\ntry:\\n    output = op_obj.execute(input)\\nexcept TransientError:\\n    traceback.print_exc()\\n    sys.exit(1)\\nexcept FatalError:\\n    traceback.print_exc()\\n    sys.exit(2)\\nos.makedirs(\\'/tmp/outputs/parameters\\', exist_ok=True)\\nos.makedirs(\\'/tmp/outputs/artifacts\\', exist_ok=True)\\noutput_sign = Screen.get_output_sign()\\nhandle_output_artifact(\\'DownloadCIF_output\\', output[\\'DownloadCIF_output\\'], output_sign[\\'DownloadCIF_output\\'], None, \\'/tmp\\')\\n'}}, {'name': 'screen-b2wqz', 'inputs': {'parameters': [{'name': 'dirct', 'description': '{\"type\": \"<class \\'str\\'>\"}'}, {'name': 'api', 'description': '{\"type\": \"<class \\'str\\'>\"}'}], 'artifacts': [{'name': 'screen_code', 'path': '/tmp/inputs/artifacts/screen_code'}, {'name': 'atom_init', 'path': '/tmp/inputs/artifacts/atom_init'}, {'name': 'dflow_python_packages', 'path': '/tmp/inputs/artifacts/dflow_python_packages'}]}, 'outputs': {'artifacts': [{'name': 'DownloadCIF_output', 'path': '/tmp/outputs/artifacts/DownloadCIF_output'}]}, 'metadata': {'annotations': {'workflows.argoproj.io/progress': '0/1'}}, 'script': {'name': '', 'image': 'kianpu/cgcnn:v1.1.0', 'command': ['python'], 'resources': {}, 'source': 'import os, sys, json\\npackage_root = \\'/tmp/inputs/artifacts/dflow_python_packages\\'\\ncatalog_dir = os.path.join(package_root, \\'.dflow\\')\\nif os.path.exists(catalog_dir):\\n    for f in os.listdir(catalog_dir):\\n        with open(os.path.join(catalog_dir, f), \\'r\\') as fd:\\n            for item in json.load(fd)[\\'path_list\\']:\\n                sys.path.insert(0, os.path.join(package_root, os.path.dirname(item[\\'dflow_list_item\\'])))\\nfrom dflow import config\\nconfig[\\'save_path_as_parameter\\'] = False\\nconfig[\\'catalog_dir_name\\'] = \\'.dflow\\'\\nimport cloudpickle\\nScreen = cloudpickle.loads(b\\'\\\\x80\\\\x05\\\\x95\\\\x90\\\\x08\\\\x00\\\\x00\\\\x00\\\\x00\\\\x00\\\\x00\\\\x8c\\\\x17cloudpickle.cloudpickle\\\\x94\\\\x8c\\\\x14_make_skeleton_class\\\\x94\\\\x93\\\\x94(\\\\x8c\\\\x03abc\\\\x94\\\\x8c\\\\x07ABCMeta\\\\x94\\\\x93\\\\x94\\\\x8c\\\\x06Screen\\\\x94\\\\x8c\\\\x0fdflow.python.op\\\\x94\\\\x8c\\\\x02OP\\\\x94\\\\x93\\\\x94\\\\x85\\\\x94}\\\\x94\\\\x8c 041015af37e542cdb22191c6eea63c02\\\\x94Nt\\\\x94R\\\\x94\\\\x8c\\\\x1ccloudpickle.cloudpickle_fast\\\\x94\\\\x8c\\\\x0f_class_setstate\\\\x94\\\\x93\\\\x94h\\\\x0e}\\\\x94(\\\\x8c\\\\n__module__\\\\x94\\\\x8c\\\\x08__main__\\\\x94\\\\x8c\\\\x08__init__\\\\x94h\\\\x00\\\\x8c\\\\x0e_make_function\\\\x94\\\\x93\\\\x94(h\\\\x00\\\\x8c\\\\r_builtin_type\\\\x94\\\\x93\\\\x94\\\\x8c\\\\x08CodeType\\\\x94\\\\x85\\\\x94R\\\\x94(K\\\\x01K\\\\x00K\\\\x00K\\\\x01K\\\\x01KCC\\\\x04d\\\\x00S\\\\x00\\\\x94N\\\\x85\\\\x94)\\\\x8c\\\\x04self\\\\x94\\\\x85\\\\x94\\\\x8cN/var/folders/6h/44ddj9d13sq380tdgns_1p0w0000gn/T/ipykernel_84217/1911735574.py\\\\x94h\\\\x15K\\\\x02C\\\\x02\\\\x00\\\\x01\\\\x94))t\\\\x94R\\\\x94}\\\\x94(\\\\x8c\\\\x0b__package__\\\\x94N\\\\x8c\\\\x08__name__\\\\x94h\\\\x14uNNNt\\\\x94R\\\\x94h\\\\x0f\\\\x8c\\\\x12_function_setstate\\\\x94\\\\x93\\\\x94h)}\\\\x94}\\\\x94(h\\\\\\'h\\\\x15\\\\x8c\\\\x0c__qualname__\\\\x94\\\\x8c\\\\x0fScreen.__init__\\\\x94\\\\x8c\\\\x0f__annotations__\\\\x94}\\\\x94\\\\x8c\\\\x0e__kwdefaults__\\\\x94N\\\\x8c\\\\x0c__defaults__\\\\x94Nh\\\\x13h\\\\x14\\\\x8c\\\\x07__doc__\\\\x94N\\\\x8c\\\\x0b__closure__\\\\x94N\\\\x8c\\\\x17_cloudpickle_submodules\\\\x94]\\\\x94\\\\x8c\\\\x0b__globals__\\\\x94}\\\\x94u\\\\x86\\\\x94\\\\x86R0\\\\x8c\\\\x0eget_input_sign\\\\x94\\\\x8c\\\\x08builtins\\\\x94\\\\x8c\\\\x0bclassmethod\\\\x94\\\\x93\\\\x94h\\\\x17(h\\\\x1c(K\\\\x01K\\\\x00K\\\\x00K\\\\x01K\\\\x06KCC\\\\x1at\\\\x00t\\\\x01t\\\\x01t\\\\x02t\\\\x03\\\\x83\\\\x01t\\\\x02t\\\\x03\\\\x83\\\\x01d\\\\x01\\\\x9c\\\\x04\\\\x83\\\\x01S\\\\x00\\\\x94N(\\\\x8c\\\\x05dirct\\\\x94\\\\x8c\\\\x03api\\\\x94\\\\x8c\\\\x0bscreen_code\\\\x94\\\\x8c\\\\tatom_init\\\\x94t\\\\x94\\\\x86\\\\x94(\\\\x8c\\\\x08OPIOSign\\\\x94\\\\x8c\\\\x03str\\\\x94\\\\x8c\\\\x08Artifact\\\\x94\\\\x8c\\\\x04Path\\\\x94t\\\\x94\\\\x8c\\\\x03cls\\\\x94\\\\x85\\\\x94h!h;K\\\\x05C\\\\x0c\\\\x00\\\\x02\\\\x02\\\\x01\\\\x02\\\\x01\\\\x02\\\\x01\\\\x06\\\\x01\\\\x06\\\\xfc\\\\x94))t\\\\x94R\\\\x94h%NNNt\\\\x94R\\\\x94h+hQ}\\\\x94}\\\\x94(h\\\\\\'h;h.\\\\x8c\\\\x15Screen.get_input_sign\\\\x94h0}\\\\x94h2Nh3Nh\\\\x13h\\\\x14h4Nh5Nh6]\\\\x94h8}\\\\x94(hF\\\\x8c\\\\x11dflow.python.opio\\\\x94hF\\\\x93\\\\x94hHhXhH\\\\x93\\\\x94hI\\\\x8c\\\\x07pathlib\\\\x94hI\\\\x93\\\\x94uu\\\\x86\\\\x94\\\\x86R0\\\\x85\\\\x94R\\\\x94\\\\x8c\\\\x0fget_output_sign\\\\x94h>h\\\\x17(h\\\\x1c(K\\\\x01K\\\\x00K\\\\x00K\\\\x01K\\\\x04KCC\\\\x10t\\\\x00d\\\\x01t\\\\x01t\\\\x02\\\\x83\\\\x01i\\\\x01\\\\x83\\\\x01S\\\\x00\\\\x94N\\\\x8c\\\\x12DownloadCIF_output\\\\x94\\\\x86\\\\x94hFhHhI\\\\x87\\\\x94hLh!h`K\\\\x0eC\\\\x06\\\\x00\\\\x02\\\\x02\\\\x01\\\\x08\\\\xff\\\\x94))t\\\\x94R\\\\x94h%NNNt\\\\x94R\\\\x94h+hi}\\\\x94}\\\\x94(h\\\\\\'h`h.\\\\x8c\\\\x16Screen.get_output_sign\\\\x94h0}\\\\x94h2Nh3Nh\\\\x13h\\\\x14h4Nh5Nh6]\\\\x94h8}\\\\x94(hFhYhHhZhIh\\\\\\\\uu\\\\x86\\\\x94\\\\x86R0\\\\x85\\\\x94R\\\\x94\\\\x8c\\\\x07execute\\\\x94h\\\\x17(h\\\\x1c(K\\\\x02K\\\\x00K\\\\x00K\\\\x03K\\\\x05K\\\\x13C.t\\\\x00\\\\xa0\\\\x01|\\\\x01|\\\\x00\\\\xa0\\\\x02\\\\xa1\\\\x00\\\\xa1\\\\x02\\\\x01\\\\x00\\\\x88\\\\x00|\\\\x00|\\\\x01\\\\x83\\\\x02}\\\\x02t\\\\x00\\\\xa0\\\\x01|\\\\x02|\\\\x00\\\\xa0\\\\x03\\\\xa1\\\\x00\\\\xa1\\\\x02\\\\x01\\\\x00|\\\\x02S\\\\x00\\\\x94N\\\\x85\\\\x94(h\\\\x08\\\\x8c\\\\x10_check_signature\\\\x94h;h`t\\\\x94h\\\\x1f\\\\x8c\\\\x05op_in\\\\x94\\\\x8c\\\\x06op_out\\\\x94\\\\x87\\\\x94\\\\x8ca/Users/zijiancai/opt/miniconda3/envs/dflow-jupyter/lib/python3.9/site-packages/dflow/python/op.py\\\\x94\\\\x8c\\\\x0cwrapper_exec\\\\x94K:C\\\\x08\\\\x00\\\\x02\\\\x10\\\\x01\\\\n\\\\x01\\\\x10\\\\x01\\\\x94\\\\x8c\\\\x04func\\\\x94\\\\x85\\\\x94)t\\\\x94R\\\\x94}\\\\x94(h&\\\\x8c\\\\x0cdflow.python\\\\x94h\\\\\\'h\\\\x07\\\\x8c\\\\x08__file__\\\\x94\\\\x8ca/Users/zijiancai/opt/miniconda3/envs/dflow-jupyter/lib/python3.9/site-packages/dflow/python/op.py\\\\x94uNNh\\\\x00\\\\x8c\\\\x10_make_empty_cell\\\\x94\\\\x93\\\\x94)R\\\\x94\\\\x85\\\\x94t\\\\x94R\\\\x94h+h\\\\x8b}\\\\x94\\\\x8c\\\\x0b__wrapped__\\\\x94h\\\\x17(h\\\\x1c(K\\\\x02K\\\\x00K\\\\x00K\\\\x03K\\\\x07KCCld\\\\x01|\\\\x01d\\\\x02\\\\x19\\\\x00\\\\x9b\\\\x00d\\\\x03|\\\\x01d\\\\x04\\\\x19\\\\x00\\\\x9b\\\\x00d\\\\x03|\\\\x01d\\\\x05\\\\x19\\\\x00\\\\x9b\\\\x00\\\\x9d\\\\x06}\\\\x02t\\\\x00j\\\\x01|\\\\x02d\\\\x06d\\\\x07\\\\x8d\\\\x02\\\\x01\\\\x00d\\\\x08|\\\\x01d\\\\t\\\\x19\\\\x00\\\\x9b\\\\x00d\\\\x03|\\\\x01d\\\\x05\\\\x19\\\\x00\\\\x9b\\\\x00\\\\x9d\\\\x04}\\\\x02t\\\\x00j\\\\x01|\\\\x02d\\\\x06d\\\\x07\\\\x8d\\\\x02\\\\x01\\\\x00t\\\\x02d\\\\nt\\\\x03|\\\\x01d\\\\x05\\\\x19\\\\x00\\\\x9b\\\\x00\\\\x83\\\\x01i\\\\x01\\\\x83\\\\x01S\\\\x00\\\\x94(N\\\\x8c\\\\x07python \\\\x94hB\\\\x8c\\\\x01 \\\\x94hAh@\\\\x88\\\\x8c\\\\x05shell\\\\x94\\\\x85\\\\x94\\\\x8c\\\\x03cp \\\\x94hChbt\\\\x94(\\\\x8c\\\\nsubprocess\\\\x94\\\\x8c\\\\x04call\\\\x94\\\\x8c\\\\x04OPIO\\\\x94hIt\\\\x94h\\\\x1fhx\\\\x8c\\\\x03cmd\\\\x94\\\\x87\\\\x94h!hsK\\\\x14C\\\\x0e\\\\x00\\\\x02\"\\\\x01\\\\x0e\\\\x01\\\\x18\\\\x01\\\\x0e\\\\x01\\\\x02\\\\x01\\\\x0e\\\\xff\\\\x94))t\\\\x94R\\\\x94h%NNNt\\\\x94R\\\\x94h+h\\\\x9f}\\\\x94}\\\\x94(h\\\\\\'hsh.\\\\x8c\\\\x0eScreen.execute\\\\x94h0}\\\\x94(hxhXh\\\\x97\\\\x93\\\\x94\\\\x8c\\\\x06return\\\\x94h\\\\xa4uh2Nh3Nh\\\\x13h\\\\x14h4Nh5Nh6]\\\\x94h8}\\\\x94(h\\\\x95h\\\\x00\\\\x8c\\\\tsubimport\\\\x94\\\\x93\\\\x94h\\\\x95\\\\x85\\\\x94R\\\\x94h\\\\x97h\\\\xa4hIh\\\\\\\\uu\\\\x86\\\\x94\\\\x86R0s}\\\\x94(h\\\\\\'hsh.h\\\\xa2h0h\\\\xa3h2Nh3Nh\\\\x13h\\\\x14h4Nh5h\\\\x00\\\\x8c\\\\n_make_cell\\\\x94\\\\x93\\\\x94h\\\\x9f\\\\x85\\\\x94R\\\\x94\\\\x85\\\\x94h6]\\\\x94h8}\\\\x94h\\\\x08h\\\\tsu\\\\x86\\\\x94\\\\x86R0h4N\\\\x8c\\\\x13__abstractmethods__\\\\x94(\\\\x91\\\\x94\\\\x8c\\\\t_abc_impl\\\\x94]\\\\x94u}\\\\x94\\\\x86\\\\x94\\\\x86R0.\\')\\nimport os, sys, traceback, jsonpickle\\nfrom dflow.python import OPIO, TransientError, FatalError\\nfrom dflow.python.utils import handle_input_artifact, handle_input_parameter\\nfrom dflow.python.utils import handle_output_artifact, handle_output_parameter\\nfrom __main__ import Screen\\n\\nop_obj = Screen()\\ninput = OPIO()\\ninput_sign = Screen.get_input_sign()\\ninput[\\'dirct\\'] = handle_input_parameter(\\'dirct\\', r\\'\\'\\'{{inputs.parameters.dirct}}\\'\\'\\', input_sign[\\'dirct\\'], None, \\'/tmp\\')\\ninput[\\'api\\'] = handle_input_parameter(\\'api\\', r\\'\\'\\'{{inputs.parameters.api}}\\'\\'\\', input_sign[\\'api\\'], None, \\'/tmp\\')\\ninput[\\'screen_code\\'] = handle_input_artifact(\\'screen_code\\', input_sign[\\'screen_code\\'], None, \\'/tmp\\')\\ninput[\\'atom_init\\'] = handle_input_artifact(\\'atom_init\\', input_sign[\\'atom_init\\'], None, \\'/tmp\\')\\ntry:\\n    output = op_obj.execute(input)\\nexcept TransientError:\\n    traceback.print_exc()\\n    sys.exit(1)\\nexcept FatalError:\\n    traceback.print_exc()\\n    sys.exit(2)\\nos.makedirs(\\'/tmp/outputs/parameters\\', exist_ok=True)\\nos.makedirs(\\'/tmp/outputs/artifacts\\', exist_ok=True)\\noutput_sign = Screen.get_output_sign()\\nhandle_output_artifact(\\'DownloadCIF_output\\', output[\\'DownloadCIF_output\\'], output_sign[\\'DownloadCIF_output\\'], None, \\'/tmp\\')\\n'}}, {'name': 'train-0dj6z', 'inputs': {'artifacts': [{'name': 'train_code', 'path': '/tmp/inputs/artifacts/train_code'}, {'name': 'train_data_set', 'path': '/tmp/inputs/artifacts/train_data_set'}, {'name': 'dflow_python_packages', 'path': '/tmp/inputs/artifacts/dflow_python_packages'}]}, 'outputs': {'artifacts': [{'name': 'trained_model', 'path': '/tmp/outputs/artifacts/trained_model'}]}, 'metadata': {'annotations': {'workflows.argoproj.io/progress': '0/1'}}, 'script': {'name': '', 'image': 'kianpu/cgcnn:v1.1.0', 'command': ['python'], 'resources': {}, 'source': 'import os, sys, json\\npackage_root = \\'/tmp/inputs/artifacts/dflow_python_packages\\'\\ncatalog_dir = os.path.join(package_root, \\'.dflow\\')\\nif os.path.exists(catalog_dir):\\n    for f in os.listdir(catalog_dir):\\n        with open(os.path.join(catalog_dir, f), \\'r\\') as fd:\\n            for item in json.load(fd)[\\'path_list\\']:\\n                sys.path.insert(0, os.path.join(package_root, os.path.dirname(item[\\'dflow_list_item\\'])))\\nfrom dflow import config\\nconfig[\\'save_path_as_parameter\\'] = False\\nconfig[\\'catalog_dir_name\\'] = \\'.dflow\\'\\nimport cloudpickle\\nTrain = cloudpickle.loads(b\"\\\\x80\\\\x05\\\\x95w\\\\x08\\\\x00\\\\x00\\\\x00\\\\x00\\\\x00\\\\x00\\\\x8c\\\\x17cloudpickle.cloudpickle\\\\x94\\\\x8c\\\\x14_make_skeleton_class\\\\x94\\\\x93\\\\x94(\\\\x8c\\\\x03abc\\\\x94\\\\x8c\\\\x07ABCMeta\\\\x94\\\\x93\\\\x94\\\\x8c\\\\x05Train\\\\x94\\\\x8c\\\\x0fdflow.python.op\\\\x94\\\\x8c\\\\x02OP\\\\x94\\\\x93\\\\x94\\\\x85\\\\x94}\\\\x94\\\\x8c bcc2c472a176410e9a6151ceb64bf4fe\\\\x94Nt\\\\x94R\\\\x94\\\\x8c\\\\x1ccloudpickle.cloudpickle_fast\\\\x94\\\\x8c\\\\x0f_class_setstate\\\\x94\\\\x93\\\\x94h\\\\x0e}\\\\x94(\\\\x8c\\\\n__module__\\\\x94\\\\x8c\\\\x08__main__\\\\x94\\\\x8c\\\\x08__init__\\\\x94h\\\\x00\\\\x8c\\\\x0e_make_function\\\\x94\\\\x93\\\\x94(h\\\\x00\\\\x8c\\\\r_builtin_type\\\\x94\\\\x93\\\\x94\\\\x8c\\\\x08CodeType\\\\x94\\\\x85\\\\x94R\\\\x94(K\\\\x01K\\\\x00K\\\\x00K\\\\x01K\\\\x01KCC\\\\x04d\\\\x00S\\\\x00\\\\x94N\\\\x85\\\\x94)\\\\x8c\\\\x04self\\\\x94\\\\x85\\\\x94\\\\x8cM/var/folders/6h/44ddj9d13sq380tdgns_1p0w0000gn/T/ipykernel_84217/644328024.py\\\\x94h\\\\x15K\\\\x02C\\\\x02\\\\x00\\\\x01\\\\x94))t\\\\x94R\\\\x94}\\\\x94(\\\\x8c\\\\x0b__package__\\\\x94N\\\\x8c\\\\x08__name__\\\\x94h\\\\x14uNNNt\\\\x94R\\\\x94h\\\\x0f\\\\x8c\\\\x12_function_setstate\\\\x94\\\\x93\\\\x94h)}\\\\x94}\\\\x94(h\\'h\\\\x15\\\\x8c\\\\x0c__qualname__\\\\x94\\\\x8c\\\\x0eTrain.__init__\\\\x94\\\\x8c\\\\x0f__annotations__\\\\x94}\\\\x94\\\\x8c\\\\x0e__kwdefaults__\\\\x94N\\\\x8c\\\\x0c__defaults__\\\\x94Nh\\\\x13h\\\\x14\\\\x8c\\\\x07__doc__\\\\x94N\\\\x8c\\\\x0b__closure__\\\\x94N\\\\x8c\\\\x17_cloudpickle_submodules\\\\x94]\\\\x94\\\\x8c\\\\x0b__globals__\\\\x94}\\\\x94u\\\\x86\\\\x94\\\\x86R0\\\\x8c\\\\x0eget_input_sign\\\\x94\\\\x8c\\\\x08builtins\\\\x94\\\\x8c\\\\x0bclassmethod\\\\x94\\\\x93\\\\x94h\\\\x17(h\\\\x1c(K\\\\x01K\\\\x00K\\\\x00K\\\\x01K\\\\x04KCC\\\\x16t\\\\x00t\\\\x01t\\\\x02\\\\x83\\\\x01t\\\\x01t\\\\x02\\\\x83\\\\x01d\\\\x01\\\\x9c\\\\x02\\\\x83\\\\x01S\\\\x00\\\\x94N\\\\x8c\\\\ntrain_code\\\\x94\\\\x8c\\\\x0etrain_data_set\\\\x94\\\\x86\\\\x94\\\\x86\\\\x94\\\\x8c\\\\x08OPIOSign\\\\x94\\\\x8c\\\\x08Artifact\\\\x94\\\\x8c\\\\x04Path\\\\x94\\\\x87\\\\x94\\\\x8c\\\\x03cls\\\\x94\\\\x85\\\\x94h!h;K\\\\x05C\\\\x08\\\\x00\\\\x02\\\\x02\\\\x02\\\\x06\\\\x01\\\\x06\\\\xfd\\\\x94))t\\\\x94R\\\\x94h%NNNt\\\\x94R\\\\x94h+hN}\\\\x94}\\\\x94(h\\'h;h.\\\\x8c\\\\x14Train.get_input_sign\\\\x94h0}\\\\x94h2Nh3Nh\\\\x13h\\\\x14h4Nh5Nh6]\\\\x94h8}\\\\x94(hD\\\\x8c\\\\x11dflow.python.opio\\\\x94hD\\\\x93\\\\x94hEhUhE\\\\x93\\\\x94hF\\\\x8c\\\\x07pathlib\\\\x94hF\\\\x93\\\\x94uu\\\\x86\\\\x94\\\\x86R0\\\\x85\\\\x94R\\\\x94\\\\x8c\\\\x0fget_output_sign\\\\x94h>h\\\\x17(h\\\\x1c(K\\\\x01K\\\\x00K\\\\x00K\\\\x01K\\\\x04KCC\\\\x10t\\\\x00d\\\\x01t\\\\x01t\\\\x02\\\\x83\\\\x01i\\\\x01\\\\x83\\\\x01S\\\\x00\\\\x94N\\\\x8c\\\\rtrained_model\\\\x94\\\\x86\\\\x94hGhIh!h]K\\\\rC\\\\x06\\\\x00\\\\x02\\\\x02\\\\x01\\\\x08\\\\xff\\\\x94))t\\\\x94R\\\\x94h%NNNt\\\\x94R\\\\x94h+he}\\\\x94}\\\\x94(h\\'h]h.\\\\x8c\\\\x15Train.get_output_sign\\\\x94h0}\\\\x94h2Nh3Nh\\\\x13h\\\\x14h4Nh5Nh6]\\\\x94h8}\\\\x94(hDhVhEhWhFhYuu\\\\x86\\\\x94\\\\x86R0\\\\x85\\\\x94R\\\\x94\\\\x8c\\\\x07execute\\\\x94h\\\\x17(h\\\\x1c(K\\\\x02K\\\\x00K\\\\x00K\\\\x03K\\\\x05K\\\\x13C.t\\\\x00\\\\xa0\\\\x01|\\\\x01|\\\\x00\\\\xa0\\\\x02\\\\xa1\\\\x00\\\\xa1\\\\x02\\\\x01\\\\x00\\\\x88\\\\x00|\\\\x00|\\\\x01\\\\x83\\\\x02}\\\\x02t\\\\x00\\\\xa0\\\\x01|\\\\x02|\\\\x00\\\\xa0\\\\x03\\\\xa1\\\\x00\\\\xa1\\\\x02\\\\x01\\\\x00|\\\\x02S\\\\x00\\\\x94N\\\\x85\\\\x94(h\\\\x08\\\\x8c\\\\x10_check_signature\\\\x94h;h]t\\\\x94h\\\\x1f\\\\x8c\\\\x05op_in\\\\x94\\\\x8c\\\\x06op_out\\\\x94\\\\x87\\\\x94\\\\x8ca/Users/zijiancai/opt/miniconda3/envs/dflow-jupyter/lib/python3.9/site-packages/dflow/python/op.py\\\\x94\\\\x8c\\\\x0cwrapper_exec\\\\x94K:C\\\\x08\\\\x00\\\\x02\\\\x10\\\\x01\\\\n\\\\x01\\\\x10\\\\x01\\\\x94\\\\x8c\\\\x04func\\\\x94\\\\x85\\\\x94)t\\\\x94R\\\\x94}\\\\x94(h&\\\\x8c\\\\x0cdflow.python\\\\x94h\\'h\\\\x07\\\\x8c\\\\x08__file__\\\\x94\\\\x8ca/Users/zijiancai/opt/miniconda3/envs/dflow-jupyter/lib/python3.9/site-packages/dflow/python/op.py\\\\x94uNNh\\\\x00\\\\x8c\\\\x10_make_empty_cell\\\\x94\\\\x93\\\\x94)R\\\\x94\\\\x85\\\\x94t\\\\x94R\\\\x94h+h\\\\x87}\\\\x94\\\\x8c\\\\x0b__wrapped__\\\\x94h\\\\x17(h\\\\x1c(K\\\\x02K\\\\x00K\\\\x00K\\\\x03K\\\\x05KCC>d\\\\x01|\\\\x01d\\\\x02\\\\x19\\\\x00\\\\x9b\\\\x00d\\\\x03|\\\\x01d\\\\x04\\\\x19\\\\x00\\\\x9b\\\\x00\\\\x9d\\\\x04}\\\\x02t\\\\x00j\\\\x01|\\\\x02d\\\\x05d\\\\x06\\\\x8d\\\\x02\\\\x01\\\\x00t\\\\x02d\\\\x07t\\\\x03|\\\\x01d\\\\x02\\\\x19\\\\x00\\\\x83\\\\x01d\\\\x08\\\\x1b\\\\x00i\\\\x01\\\\x83\\\\x01S\\\\x00\\\\x94(N\\\\x8c\\\\x03cd \\\\x94h@\\\\x8c> && python main.py --train-size 50 --val-size 2 --test-size 1 \\\\x94hA\\\\x88\\\\x8c\\\\x05shell\\\\x94\\\\x85\\\\x94h_\\\\x8c\\\\x12model_best.pth.tar\\\\x94t\\\\x94(\\\\x8c\\\\nsubprocess\\\\x94\\\\x8c\\\\x04call\\\\x94\\\\x8c\\\\x04OPIO\\\\x94hFt\\\\x94h\\\\x1fht\\\\x8c\\\\x03cmd\\\\x94\\\\x87\\\\x94h!hoK\\\\x13C\\\\n\\\\x00\\\\x02\\\\x18\\\\x01\\\\x0e\\\\x01\\\\x02\\\\x01\\\\x10\\\\xff\\\\x94))t\\\\x94R\\\\x94h%NNNt\\\\x94R\\\\x94h+h\\\\x9b}\\\\x94}\\\\x94(h\\'hoh.\\\\x8c\\\\rTrain.execute\\\\x94h0}\\\\x94(hthUh\\\\x93\\\\x93\\\\x94\\\\x8c\\\\x06return\\\\x94h\\\\xa0uh2Nh3Nh\\\\x13h\\\\x14h4Nh5Nh6]\\\\x94h8}\\\\x94(h\\\\x91h\\\\x00\\\\x8c\\\\tsubimport\\\\x94\\\\x93\\\\x94h\\\\x91\\\\x85\\\\x94R\\\\x94h\\\\x93h\\\\xa0hFhYuu\\\\x86\\\\x94\\\\x86R0s}\\\\x94(h\\'hoh.h\\\\x9eh0h\\\\x9fh2Nh3Nh\\\\x13h\\\\x14h4Nh5h\\\\x00\\\\x8c\\\\n_make_cell\\\\x94\\\\x93\\\\x94h\\\\x9b\\\\x85\\\\x94R\\\\x94\\\\x85\\\\x94h6]\\\\x94h8}\\\\x94h\\\\x08h\\\\tsu\\\\x86\\\\x94\\\\x86R0h4N\\\\x8c\\\\x13__abstractmethods__\\\\x94(\\\\x91\\\\x94\\\\x8c\\\\t_abc_impl\\\\x94]\\\\x94u}\\\\x94\\\\x86\\\\x94\\\\x86R0.\")\\nimport os, sys, traceback, jsonpickle\\nfrom dflow.python import OPIO, TransientError, FatalError\\nfrom dflow.python.utils import handle_input_artifact, handle_input_parameter\\nfrom dflow.python.utils import handle_output_artifact, handle_output_parameter\\nfrom __main__ import Train\\n\\nop_obj = Train()\\ninput = OPIO()\\ninput_sign = Train.get_input_sign()\\ninput[\\'train_code\\'] = handle_input_artifact(\\'train_code\\', input_sign[\\'train_code\\'], None, \\'/tmp\\')\\ninput[\\'train_data_set\\'] = handle_input_artifact(\\'train_data_set\\', input_sign[\\'train_data_set\\'], None, \\'/tmp\\')\\ntry:\\n    output = op_obj.execute(input)\\nexcept TransientError:\\n    traceback.print_exc()\\n    sys.exit(1)\\nexcept FatalError:\\n    traceback.print_exc()\\n    sys.exit(2)\\nos.makedirs(\\'/tmp/outputs/parameters\\', exist_ok=True)\\nos.makedirs(\\'/tmp/outputs/artifacts\\', exist_ok=True)\\noutput_sign = Train.get_output_sign()\\nhandle_output_artifact(\\'trained_model\\', output[\\'trained_model\\'], output_sign[\\'trained_model\\'], None, \\'/tmp\\')\\n'}}, {'name': 'predict-uojzi', 'inputs': {'artifacts': [{'name': 'predict_code', 'path': '/tmp/inputs/artifacts/predict_code'}, {'name': 'predict_model', 'path': '/tmp/inputs/artifacts/predict_model'}, {'name': 'predict_data_set', 'path': '/tmp/inputs/artifacts/predict_data_set'}, {'name': 'dflow_python_packages', 'path': '/tmp/inputs/artifacts/dflow_python_packages'}]}, 'outputs': {'artifacts': [{'name': 'predict_result', 'path': '/tmp/outputs/artifacts/predict_result'}]}, 'metadata': {'annotations': {'workflows.argoproj.io/progress': '0/1'}}, 'script': {'name': '', 'image': 'zjcai233/zc:latest', 'command': ['python'], 'resources': {}, 'source': 'import os, sys, json\\npackage_root = \\'/tmp/inputs/artifacts/dflow_python_packages\\'\\ncatalog_dir = os.path.join(package_root, \\'.dflow\\')\\nif os.path.exists(catalog_dir):\\n    for f in os.listdir(catalog_dir):\\n        with open(os.path.join(catalog_dir, f), \\'r\\') as fd:\\n            for item in json.load(fd)[\\'path_list\\']:\\n                sys.path.insert(0, os.path.join(package_root, os.path.dirname(item[\\'dflow_list_item\\'])))\\nfrom dflow import config\\nconfig[\\'save_path_as_parameter\\'] = False\\nconfig[\\'catalog_dir_name\\'] = \\'.dflow\\'\\nimport cloudpickle\\nPredict = cloudpickle.loads(b\"\\\\x80\\\\x05\\\\x95\\\\x9f\\\\x08\\\\x00\\\\x00\\\\x00\\\\x00\\\\x00\\\\x00\\\\x8c\\\\x17cloudpickle.cloudpickle\\\\x94\\\\x8c\\\\x14_make_skeleton_class\\\\x94\\\\x93\\\\x94(\\\\x8c\\\\x03abc\\\\x94\\\\x8c\\\\x07ABCMeta\\\\x94\\\\x93\\\\x94\\\\x8c\\\\x07Predict\\\\x94\\\\x8c\\\\x0fdflow.python.op\\\\x94\\\\x8c\\\\x02OP\\\\x94\\\\x93\\\\x94\\\\x85\\\\x94}\\\\x94\\\\x8c 0bf4f39b9673403baf3f955808b0574f\\\\x94Nt\\\\x94R\\\\x94\\\\x8c\\\\x1ccloudpickle.cloudpickle_fast\\\\x94\\\\x8c\\\\x0f_class_setstate\\\\x94\\\\x93\\\\x94h\\\\x0e}\\\\x94(\\\\x8c\\\\n__module__\\\\x94\\\\x8c\\\\x08__main__\\\\x94\\\\x8c\\\\x08__init__\\\\x94h\\\\x00\\\\x8c\\\\x0e_make_function\\\\x94\\\\x93\\\\x94(h\\\\x00\\\\x8c\\\\r_builtin_type\\\\x94\\\\x93\\\\x94\\\\x8c\\\\x08CodeType\\\\x94\\\\x85\\\\x94R\\\\x94(K\\\\x01K\\\\x00K\\\\x00K\\\\x01K\\\\x01KCC\\\\x04d\\\\x00S\\\\x00\\\\x94N\\\\x85\\\\x94)\\\\x8c\\\\x04self\\\\x94\\\\x85\\\\x94\\\\x8cN/var/folders/6h/44ddj9d13sq380tdgns_1p0w0000gn/T/ipykernel_84217/1537045719.py\\\\x94h\\\\x15K\\\\x02C\\\\x02\\\\x00\\\\x01\\\\x94))t\\\\x94R\\\\x94}\\\\x94(\\\\x8c\\\\x0b__package__\\\\x94N\\\\x8c\\\\x08__name__\\\\x94h\\\\x14uNNNt\\\\x94R\\\\x94h\\\\x0f\\\\x8c\\\\x12_function_setstate\\\\x94\\\\x93\\\\x94h)}\\\\x94}\\\\x94(h\\'h\\\\x15\\\\x8c\\\\x0c__qualname__\\\\x94\\\\x8c\\\\x10Predict.__init__\\\\x94\\\\x8c\\\\x0f__annotations__\\\\x94}\\\\x94\\\\x8c\\\\x0e__kwdefaults__\\\\x94N\\\\x8c\\\\x0c__defaults__\\\\x94Nh\\\\x13h\\\\x14\\\\x8c\\\\x07__doc__\\\\x94N\\\\x8c\\\\x0b__closure__\\\\x94N\\\\x8c\\\\x17_cloudpickle_submodules\\\\x94]\\\\x94\\\\x8c\\\\x0b__globals__\\\\x94}\\\\x94u\\\\x86\\\\x94\\\\x86R0\\\\x8c\\\\x0eget_input_sign\\\\x94\\\\x8c\\\\x08builtins\\\\x94\\\\x8c\\\\x0bclassmethod\\\\x94\\\\x93\\\\x94h\\\\x17(h\\\\x1c(K\\\\x01K\\\\x00K\\\\x00K\\\\x01K\\\\x05KCC\\\\x1ct\\\\x00t\\\\x01t\\\\x02\\\\x83\\\\x01t\\\\x01t\\\\x02\\\\x83\\\\x01t\\\\x01t\\\\x02\\\\x83\\\\x01d\\\\x01\\\\x9c\\\\x03\\\\x83\\\\x01S\\\\x00\\\\x94N\\\\x8c\\\\x0cpredict_code\\\\x94\\\\x8c\\\\rpredict_model\\\\x94\\\\x8c\\\\x10predict_data_set\\\\x94\\\\x87\\\\x94\\\\x86\\\\x94\\\\x8c\\\\x08OPIOSign\\\\x94\\\\x8c\\\\x08Artifact\\\\x94\\\\x8c\\\\x04Path\\\\x94\\\\x87\\\\x94\\\\x8c\\\\x03cls\\\\x94\\\\x85\\\\x94h!h;K\\\\x05C\\\\n\\\\x00\\\\x02\\\\x02\\\\x01\\\\x06\\\\x01\\\\x06\\\\x01\\\\x06\\\\xfd\\\\x94))t\\\\x94R\\\\x94h%NNNt\\\\x94R\\\\x94h+hO}\\\\x94}\\\\x94(h\\'h;h.\\\\x8c\\\\x16Predict.get_input_sign\\\\x94h0}\\\\x94h2Nh3Nh\\\\x13h\\\\x14h4Nh5Nh6]\\\\x94h8}\\\\x94(hE\\\\x8c\\\\x11dflow.python.opio\\\\x94hE\\\\x93\\\\x94hFhVhF\\\\x93\\\\x94hG\\\\x8c\\\\x07pathlib\\\\x94hG\\\\x93\\\\x94uu\\\\x86\\\\x94\\\\x86R0\\\\x85\\\\x94R\\\\x94\\\\x8c\\\\x0fget_output_sign\\\\x94h>h\\\\x17(h\\\\x1c(K\\\\x01K\\\\x00K\\\\x00K\\\\x01K\\\\x04KCC\\\\x10t\\\\x00d\\\\x01t\\\\x01t\\\\x02\\\\x83\\\\x01i\\\\x01\\\\x83\\\\x01S\\\\x00\\\\x94N\\\\x8c\\\\x0epredict_result\\\\x94\\\\x86\\\\x94hHhJh!h^K\\\\rC\\\\x06\\\\x00\\\\x02\\\\x02\\\\x01\\\\x08\\\\xff\\\\x94))t\\\\x94R\\\\x94h%NNNt\\\\x94R\\\\x94h+hf}\\\\x94}\\\\x94(h\\'h^h.\\\\x8c\\\\x17Predict.get_output_sign\\\\x94h0}\\\\x94h2Nh3Nh\\\\x13h\\\\x14h4Nh5Nh6]\\\\x94h8}\\\\x94(hEhWhFhXhGhZuu\\\\x86\\\\x94\\\\x86R0\\\\x85\\\\x94R\\\\x94\\\\x8c\\\\x07execute\\\\x94h\\\\x17(h\\\\x1c(K\\\\x02K\\\\x00K\\\\x00K\\\\x03K\\\\x05K\\\\x13C.t\\\\x00\\\\xa0\\\\x01|\\\\x01|\\\\x00\\\\xa0\\\\x02\\\\xa1\\\\x00\\\\xa1\\\\x02\\\\x01\\\\x00\\\\x88\\\\x00|\\\\x00|\\\\x01\\\\x83\\\\x02}\\\\x02t\\\\x00\\\\xa0\\\\x01|\\\\x02|\\\\x00\\\\xa0\\\\x03\\\\xa1\\\\x00\\\\xa1\\\\x02\\\\x01\\\\x00|\\\\x02S\\\\x00\\\\x94N\\\\x85\\\\x94(h\\\\x08\\\\x8c\\\\x10_check_signature\\\\x94h;h^t\\\\x94h\\\\x1f\\\\x8c\\\\x05op_in\\\\x94\\\\x8c\\\\x06op_out\\\\x94\\\\x87\\\\x94\\\\x8ca/Users/zijiancai/opt/miniconda3/envs/dflow-jupyter/lib/python3.9/site-packages/dflow/python/op.py\\\\x94\\\\x8c\\\\x0cwrapper_exec\\\\x94K:C\\\\x08\\\\x00\\\\x02\\\\x10\\\\x01\\\\n\\\\x01\\\\x10\\\\x01\\\\x94\\\\x8c\\\\x04func\\\\x94\\\\x85\\\\x94)t\\\\x94R\\\\x94}\\\\x94(h&\\\\x8c\\\\x0cdflow.python\\\\x94h\\'h\\\\x07\\\\x8c\\\\x08__file__\\\\x94\\\\x8ca/Users/zijiancai/opt/miniconda3/envs/dflow-jupyter/lib/python3.9/site-packages/dflow/python/op.py\\\\x94uNNh\\\\x00\\\\x8c\\\\x10_make_empty_cell\\\\x94\\\\x93\\\\x94)R\\\\x94\\\\x85\\\\x94t\\\\x94R\\\\x94h+h\\\\x88}\\\\x94\\\\x8c\\\\x0b__wrapped__\\\\x94h\\\\x17(h\\\\x1c(K\\\\x02K\\\\x00K\\\\x00K\\\\x03K\\\\x07KCCJd\\\\x01|\\\\x01d\\\\x02\\\\x19\\\\x00\\\\x9b\\\\x00d\\\\x03|\\\\x01d\\\\x04\\\\x19\\\\x00\\\\x9b\\\\x00d\\\\x05|\\\\x01d\\\\x06\\\\x19\\\\x00\\\\x9b\\\\x00d\\\\x07\\\\x9d\\\\x07}\\\\x02t\\\\x00j\\\\x01|\\\\x02d\\\\x08d\\\\t\\\\x8d\\\\x02\\\\x01\\\\x00t\\\\x02d\\\\nt\\\\x03|\\\\x01d\\\\x02\\\\x19\\\\x00\\\\x83\\\\x01d\\\\x0b\\\\x1b\\\\x00i\\\\x01\\\\x83\\\\x01S\\\\x00\\\\x94(N\\\\x8c\\\\x03cd \\\\x94h@\\\\x8c\\\\x16 && python predict.py \\\\x94hA\\\\x8c\\\\x01 \\\\x94hB\\\\x8c\\\\x15 && ls && cd .. && ls\\\\x94\\\\x88\\\\x8c\\\\x05shell\\\\x94\\\\x85\\\\x94h`\\\\x8c\\\\x10test_results.csv\\\\x94t\\\\x94(\\\\x8c\\\\nsubprocess\\\\x94\\\\x8c\\\\x04call\\\\x94\\\\x8c\\\\x04OPIO\\\\x94hGt\\\\x94h\\\\x1fhu\\\\x8c\\\\x03cmd\\\\x94\\\\x87\\\\x94h!hpK\\\\x13C\\\\n\\\\x00\\\\x04$\\\\x01\\\\x0e\\\\x02\\\\x02\\\\x01\\\\x10\\\\xff\\\\x94))t\\\\x94R\\\\x94h%NNNt\\\\x94R\\\\x94h+h\\\\x9e}\\\\x94}\\\\x94(h\\'hph.\\\\x8c\\\\x0fPredict.execute\\\\x94h0}\\\\x94(huhVh\\\\x96\\\\x93\\\\x94\\\\x8c\\\\x06return\\\\x94h\\\\xa3uh2Nh3Nh\\\\x13h\\\\x14h4Nh5Nh6]\\\\x94h8}\\\\x94(h\\\\x94h\\\\x00\\\\x8c\\\\tsubimport\\\\x94\\\\x93\\\\x94h\\\\x94\\\\x85\\\\x94R\\\\x94h\\\\x96h\\\\xa3hGhZuu\\\\x86\\\\x94\\\\x86R0s}\\\\x94(h\\'hph.h\\\\xa1h0h\\\\xa2h2Nh3Nh\\\\x13h\\\\x14h4Nh5h\\\\x00\\\\x8c\\\\n_make_cell\\\\x94\\\\x93\\\\x94h\\\\x9e\\\\x85\\\\x94R\\\\x94\\\\x85\\\\x94h6]\\\\x94h8}\\\\x94h\\\\x08h\\\\tsu\\\\x86\\\\x94\\\\x86R0h4N\\\\x8c\\\\x13__abstractmethods__\\\\x94(\\\\x91\\\\x94\\\\x8c\\\\t_abc_impl\\\\x94]\\\\x94u}\\\\x94\\\\x86\\\\x94\\\\x86R0.\")\\nimport os, sys, traceback, jsonpickle\\nfrom dflow.python import OPIO, TransientError, FatalError\\nfrom dflow.python.utils import handle_input_artifact, handle_input_parameter\\nfrom dflow.python.utils import handle_output_artifact, handle_output_parameter\\nfrom __main__ import Predict\\n\\nop_obj = Predict()\\ninput = OPIO()\\ninput_sign = Predict.get_input_sign()\\ninput[\\'predict_code\\'] = handle_input_artifact(\\'predict_code\\', input_sign[\\'predict_code\\'], None, \\'/tmp\\')\\ninput[\\'predict_model\\'] = handle_input_artifact(\\'predict_model\\', input_sign[\\'predict_model\\'], None, \\'/tmp\\')\\ninput[\\'predict_data_set\\'] = handle_input_artifact(\\'predict_data_set\\', input_sign[\\'predict_data_set\\'], None, \\'/tmp\\')\\ntry:\\n    output = op_obj.execute(input)\\nexcept TransientError:\\n    traceback.print_exc()\\n    sys.exit(1)\\nexcept FatalError:\\n    traceback.print_exc()\\n    sys.exit(2)\\nos.makedirs(\\'/tmp/outputs/parameters\\', exist_ok=True)\\nos.makedirs(\\'/tmp/outputs/artifacts\\', exist_ok=True)\\noutput_sign = Predict.get_output_sign()\\nhandle_output_artifact(\\'predict_result\\', output[\\'predict_result\\'], output_sign[\\'predict_result\\'], None, \\'/tmp\\')\\n'}}], 'entrypoint': 'print-hello-steps', 'arguments': {}, 'serviceAccountName': 'argo'}, 'status': {'startedAt': None, 'finishedAt': None}}"
      ]
     },
     "execution_count": 14,
     "metadata": {},
     "output_type": "execute_result"
    }
   ],
   "source": [
    "wf = Workflow(\"print-hello\")\n",
    "wf.add(step_screen_ls)\n",
    "wf.add(train)\n",
    "wf.add(predict)\n",
    "wf.submit()"
   ]
  },
  {
   "cell_type": "markdown",
   "id": "9999c241",
   "metadata": {},
   "source": [
    "# <a name=\"Argo-UI\"></a> Argo UI"
   ]
  },
  {
   "cell_type": "markdown",
   "id": "8fa2bf99",
   "metadata": {},
   "source": [
    "After finishing the previous steps, we can access the workflow we just ran on the UI (https://127.0.0.1:2746)\n",
    "\n",
    "We should see the following once loaded."
   ]
  }
 ],
 "metadata": {
  "kernelspec": {
   "display_name": "Python 3 (ipykernel)",
   "language": "python",
   "name": "python3"
  },
  "language_info": {
   "codemirror_mode": {
    "name": "ipython",
    "version": 3
   },
   "file_extension": ".py",
   "mimetype": "text/x-python",
   "name": "python",
   "nbconvert_exporter": "python",
   "pygments_lexer": "ipython3",
   "version": "3.9.12"
  }
 },
 "nbformat": 4,
 "nbformat_minor": 5
}
